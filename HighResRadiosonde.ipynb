{
 "cells": [
  {
   "cell_type": "code",
   "execution_count": 2,
   "metadata": {
    "colab": {
     "base_uri": "https://localhost:8080/",
     "height": 315
    },
    "id": "U6z466OVT8ER",
    "outputId": "773a72ec-5207-4a53-e7de-8f847a010ab5"
   },
   "outputs": [],
   "source": [
    "import wyoming_radiosonde\n",
    "from datetime import datetime, timedelta\n",
    "import os\n",
    "import pandas as pd\n",
    "import matplotlib.pyplot as plt\n",
    "import numpy as np\n",
    "import pickle"
   ]
  },
  {
   "cell_type": "markdown",
   "metadata": {},
   "source": [
    "# Get one day of data"
   ]
  },
  {
   "cell_type": "code",
   "execution_count": 2,
   "metadata": {
    "id": "5Sbp8R3Femm5"
   },
   "outputs": [
    {
     "name": "stdout",
     "output_type": "stream",
     "text": [
      "2023-04-01-00\n",
      "{'id': '91165', 'datetime': '2023-04-01%2000:00:00'}\n",
      "https://weather.uwyo.edu/cgi-bin/bufrraob.py?type=TEXT:LIST&id=91165&datetime=2023-04-01%2000:00:00\n",
      "https://weather.uwyo.edu/cgi-bin/bufrraob.py?type=TEXT:LIST&id=91165&datetime=2023-04-01%2000:00:00\n"
     ]
    },
    {
     "name": "stderr",
     "output_type": "stream",
     "text": [
      "C:\\Users\\Angela\\Anaconda3\\lib\\site-packages\\urllib3\\connectionpool.py:847: InsecureRequestWarning: Unverified HTTPS request is being made. Adding certificate verification is strongly advised. See: https://urllib3.readthedocs.io/en/latest/advanced-usage.html#ssl-warnings\n",
      "  InsecureRequestWarning)\n"
     ]
    },
    {
     "data": {
      "text/html": [
       "<div>\n",
       "<style scoped>\n",
       "    .dataframe tbody tr th:only-of-type {\n",
       "        vertical-align: middle;\n",
       "    }\n",
       "\n",
       "    .dataframe tbody tr th {\n",
       "        vertical-align: top;\n",
       "    }\n",
       "\n",
       "    .dataframe thead th {\n",
       "        text-align: right;\n",
       "    }\n",
       "</style>\n",
       "<table border=\"1\" class=\"dataframe\">\n",
       "  <thead>\n",
       "    <tr style=\"text-align: right;\">\n",
       "      <th></th>\n",
       "      <th>PRES</th>\n",
       "      <th>HGHT</th>\n",
       "      <th>TEMP</th>\n",
       "      <th>DWPT</th>\n",
       "      <th>RELH</th>\n",
       "      <th>MIXR</th>\n",
       "      <th>DRCT</th>\n",
       "      <th>SPED</th>\n",
       "      <th>THTA</th>\n",
       "      <th>THTE</th>\n",
       "      <th>THTV</th>\n",
       "    </tr>\n",
       "  </thead>\n",
       "  <tbody>\n",
       "    <tr>\n",
       "      <th>0</th>\n",
       "      <td>1010.7</td>\n",
       "      <td>31</td>\n",
       "      <td>25.5</td>\n",
       "      <td>22.0</td>\n",
       "      <td>81</td>\n",
       "      <td>16.71</td>\n",
       "      <td>183</td>\n",
       "      <td>6.0</td>\n",
       "      <td>297.7</td>\n",
       "      <td>346.4</td>\n",
       "      <td>300.7</td>\n",
       "    </tr>\n",
       "    <tr>\n",
       "      <th>1</th>\n",
       "      <td>1009.9</td>\n",
       "      <td>38</td>\n",
       "      <td>25.0</td>\n",
       "      <td>21.5</td>\n",
       "      <td>81</td>\n",
       "      <td>16.20</td>\n",
       "      <td>182</td>\n",
       "      <td>4.2</td>\n",
       "      <td>297.3</td>\n",
       "      <td>344.3</td>\n",
       "      <td>300.2</td>\n",
       "    </tr>\n",
       "    <tr>\n",
       "      <th>2</th>\n",
       "      <td>1009.3</td>\n",
       "      <td>43</td>\n",
       "      <td>24.8</td>\n",
       "      <td>21.5</td>\n",
       "      <td>82</td>\n",
       "      <td>16.23</td>\n",
       "      <td>181</td>\n",
       "      <td>3.9</td>\n",
       "      <td>297.2</td>\n",
       "      <td>344.3</td>\n",
       "      <td>300.0</td>\n",
       "    </tr>\n",
       "    <tr>\n",
       "      <th>3</th>\n",
       "      <td>1008.7</td>\n",
       "      <td>48</td>\n",
       "      <td>24.7</td>\n",
       "      <td>21.5</td>\n",
       "      <td>82</td>\n",
       "      <td>16.17</td>\n",
       "      <td>181</td>\n",
       "      <td>4.1</td>\n",
       "      <td>297.1</td>\n",
       "      <td>344.0</td>\n",
       "      <td>300.0</td>\n",
       "    </tr>\n",
       "    <tr>\n",
       "      <th>4</th>\n",
       "      <td>1008.0</td>\n",
       "      <td>54</td>\n",
       "      <td>24.6</td>\n",
       "      <td>21.3</td>\n",
       "      <td>82</td>\n",
       "      <td>16.05</td>\n",
       "      <td>181</td>\n",
       "      <td>4.4</td>\n",
       "      <td>297.1</td>\n",
       "      <td>343.6</td>\n",
       "      <td>299.9</td>\n",
       "    </tr>\n",
       "    <tr>\n",
       "      <th>5</th>\n",
       "      <td>1007.4</td>\n",
       "      <td>60</td>\n",
       "      <td>24.5</td>\n",
       "      <td>21.3</td>\n",
       "      <td>82</td>\n",
       "      <td>16.02</td>\n",
       "      <td>181</td>\n",
       "      <td>4.7</td>\n",
       "      <td>297.1</td>\n",
       "      <td>343.5</td>\n",
       "      <td>299.9</td>\n",
       "    </tr>\n",
       "    <tr>\n",
       "      <th>6</th>\n",
       "      <td>1006.7</td>\n",
       "      <td>65</td>\n",
       "      <td>24.5</td>\n",
       "      <td>21.2</td>\n",
       "      <td>82</td>\n",
       "      <td>15.99</td>\n",
       "      <td>181</td>\n",
       "      <td>5.0</td>\n",
       "      <td>297.1</td>\n",
       "      <td>343.5</td>\n",
       "      <td>299.9</td>\n",
       "    </tr>\n",
       "    <tr>\n",
       "      <th>7</th>\n",
       "      <td>1006.1</td>\n",
       "      <td>70</td>\n",
       "      <td>24.5</td>\n",
       "      <td>21.2</td>\n",
       "      <td>82</td>\n",
       "      <td>15.92</td>\n",
       "      <td>180</td>\n",
       "      <td>5.3</td>\n",
       "      <td>297.1</td>\n",
       "      <td>343.3</td>\n",
       "      <td>300.0</td>\n",
       "    </tr>\n",
       "    <tr>\n",
       "      <th>8</th>\n",
       "      <td>1005.5</td>\n",
       "      <td>76</td>\n",
       "      <td>24.4</td>\n",
       "      <td>21.1</td>\n",
       "      <td>82</td>\n",
       "      <td>15.87</td>\n",
       "      <td>180</td>\n",
       "      <td>5.5</td>\n",
       "      <td>297.1</td>\n",
       "      <td>343.2</td>\n",
       "      <td>299.9</td>\n",
       "    </tr>\n",
       "    <tr>\n",
       "      <th>9</th>\n",
       "      <td>1004.9</td>\n",
       "      <td>81</td>\n",
       "      <td>24.4</td>\n",
       "      <td>21.0</td>\n",
       "      <td>82</td>\n",
       "      <td>15.81</td>\n",
       "      <td>180</td>\n",
       "      <td>5.8</td>\n",
       "      <td>297.1</td>\n",
       "      <td>343.0</td>\n",
       "      <td>299.9</td>\n",
       "    </tr>\n",
       "    <tr>\n",
       "      <th>10</th>\n",
       "      <td>1004.2</td>\n",
       "      <td>87</td>\n",
       "      <td>24.3</td>\n",
       "      <td>21.0</td>\n",
       "      <td>82</td>\n",
       "      <td>15.77</td>\n",
       "      <td>179</td>\n",
       "      <td>6.0</td>\n",
       "      <td>297.1</td>\n",
       "      <td>342.9</td>\n",
       "      <td>299.9</td>\n",
       "    </tr>\n",
       "    <tr>\n",
       "      <th>11</th>\n",
       "      <td>1003.6</td>\n",
       "      <td>93</td>\n",
       "      <td>24.3</td>\n",
       "      <td>21.0</td>\n",
       "      <td>82</td>\n",
       "      <td>15.78</td>\n",
       "      <td>179</td>\n",
       "      <td>6.2</td>\n",
       "      <td>297.1</td>\n",
       "      <td>342.9</td>\n",
       "      <td>299.9</td>\n",
       "    </tr>\n",
       "    <tr>\n",
       "      <th>12</th>\n",
       "      <td>1002.9</td>\n",
       "      <td>99</td>\n",
       "      <td>24.2</td>\n",
       "      <td>21.0</td>\n",
       "      <td>82</td>\n",
       "      <td>15.83</td>\n",
       "      <td>179</td>\n",
       "      <td>6.4</td>\n",
       "      <td>297.1</td>\n",
       "      <td>343.1</td>\n",
       "      <td>299.9</td>\n",
       "    </tr>\n",
       "    <tr>\n",
       "      <th>13</th>\n",
       "      <td>1002.2</td>\n",
       "      <td>105</td>\n",
       "      <td>24.2</td>\n",
       "      <td>21.0</td>\n",
       "      <td>83</td>\n",
       "      <td>15.85</td>\n",
       "      <td>178</td>\n",
       "      <td>6.6</td>\n",
       "      <td>297.1</td>\n",
       "      <td>343.2</td>\n",
       "      <td>300.0</td>\n",
       "    </tr>\n",
       "    <tr>\n",
       "      <th>14</th>\n",
       "      <td>1001.5</td>\n",
       "      <td>111</td>\n",
       "      <td>24.1</td>\n",
       "      <td>21.0</td>\n",
       "      <td>83</td>\n",
       "      <td>15.86</td>\n",
       "      <td>178</td>\n",
       "      <td>6.8</td>\n",
       "      <td>297.2</td>\n",
       "      <td>343.2</td>\n",
       "      <td>300.0</td>\n",
       "    </tr>\n",
       "    <tr>\n",
       "      <th>15</th>\n",
       "      <td>1000.8</td>\n",
       "      <td>117</td>\n",
       "      <td>24.1</td>\n",
       "      <td>21.0</td>\n",
       "      <td>83</td>\n",
       "      <td>15.84</td>\n",
       "      <td>177</td>\n",
       "      <td>6.9</td>\n",
       "      <td>297.2</td>\n",
       "      <td>343.2</td>\n",
       "      <td>300.0</td>\n",
       "    </tr>\n",
       "    <tr>\n",
       "      <th>16</th>\n",
       "      <td>1000.0</td>\n",
       "      <td>124</td>\n",
       "      <td>24.0</td>\n",
       "      <td>20.9</td>\n",
       "      <td>83</td>\n",
       "      <td>15.74</td>\n",
       "      <td>176</td>\n",
       "      <td>7.2</td>\n",
       "      <td>297.1</td>\n",
       "      <td>342.8</td>\n",
       "      <td>299.9</td>\n",
       "    </tr>\n",
       "    <tr>\n",
       "      <th>17</th>\n",
       "      <td>999.3</td>\n",
       "      <td>130</td>\n",
       "      <td>23.9</td>\n",
       "      <td>20.8</td>\n",
       "      <td>83</td>\n",
       "      <td>15.68</td>\n",
       "      <td>176</td>\n",
       "      <td>7.2</td>\n",
       "      <td>297.1</td>\n",
       "      <td>342.6</td>\n",
       "      <td>299.9</td>\n",
       "    </tr>\n",
       "    <tr>\n",
       "      <th>18</th>\n",
       "      <td>998.6</td>\n",
       "      <td>137</td>\n",
       "      <td>23.8</td>\n",
       "      <td>20.9</td>\n",
       "      <td>84</td>\n",
       "      <td>15.75</td>\n",
       "      <td>176</td>\n",
       "      <td>7.3</td>\n",
       "      <td>297.1</td>\n",
       "      <td>342.8</td>\n",
       "      <td>299.9</td>\n",
       "    </tr>\n",
       "    <tr>\n",
       "      <th>19</th>\n",
       "      <td>997.8</td>\n",
       "      <td>144</td>\n",
       "      <td>23.9</td>\n",
       "      <td>21.0</td>\n",
       "      <td>84</td>\n",
       "      <td>15.84</td>\n",
       "      <td>175</td>\n",
       "      <td>7.4</td>\n",
       "      <td>297.2</td>\n",
       "      <td>343.2</td>\n",
       "      <td>300.0</td>\n",
       "    </tr>\n",
       "    <tr>\n",
       "      <th>20</th>\n",
       "      <td>997.0</td>\n",
       "      <td>150</td>\n",
       "      <td>23.8</td>\n",
       "      <td>20.9</td>\n",
       "      <td>84</td>\n",
       "      <td>15.80</td>\n",
       "      <td>175</td>\n",
       "      <td>7.5</td>\n",
       "      <td>297.2</td>\n",
       "      <td>343.1</td>\n",
       "      <td>300.0</td>\n",
       "    </tr>\n",
       "    <tr>\n",
       "      <th>21</th>\n",
       "      <td>996.3</td>\n",
       "      <td>157</td>\n",
       "      <td>23.7</td>\n",
       "      <td>20.8</td>\n",
       "      <td>84</td>\n",
       "      <td>15.75</td>\n",
       "      <td>174</td>\n",
       "      <td>7.5</td>\n",
       "      <td>297.2</td>\n",
       "      <td>342.9</td>\n",
       "      <td>300.0</td>\n",
       "    </tr>\n",
       "    <tr>\n",
       "      <th>22</th>\n",
       "      <td>995.5</td>\n",
       "      <td>164</td>\n",
       "      <td>23.7</td>\n",
       "      <td>20.9</td>\n",
       "      <td>84</td>\n",
       "      <td>15.80</td>\n",
       "      <td>174</td>\n",
       "      <td>7.5</td>\n",
       "      <td>297.2</td>\n",
       "      <td>343.1</td>\n",
       "      <td>300.0</td>\n",
       "    </tr>\n",
       "    <tr>\n",
       "      <th>23</th>\n",
       "      <td>994.7</td>\n",
       "      <td>170</td>\n",
       "      <td>23.7</td>\n",
       "      <td>21.0</td>\n",
       "      <td>85</td>\n",
       "      <td>15.89</td>\n",
       "      <td>173</td>\n",
       "      <td>7.6</td>\n",
       "      <td>297.3</td>\n",
       "      <td>343.4</td>\n",
       "      <td>300.1</td>\n",
       "    </tr>\n",
       "    <tr>\n",
       "      <th>24</th>\n",
       "      <td>994.0</td>\n",
       "      <td>177</td>\n",
       "      <td>23.6</td>\n",
       "      <td>20.9</td>\n",
       "      <td>85</td>\n",
       "      <td>15.88</td>\n",
       "      <td>172</td>\n",
       "      <td>7.6</td>\n",
       "      <td>297.3</td>\n",
       "      <td>343.4</td>\n",
       "      <td>300.1</td>\n",
       "    </tr>\n",
       "    <tr>\n",
       "      <th>25</th>\n",
       "      <td>993.2</td>\n",
       "      <td>184</td>\n",
       "      <td>23.5</td>\n",
       "      <td>20.9</td>\n",
       "      <td>85</td>\n",
       "      <td>15.83</td>\n",
       "      <td>172</td>\n",
       "      <td>7.6</td>\n",
       "      <td>297.2</td>\n",
       "      <td>343.2</td>\n",
       "      <td>300.1</td>\n",
       "    </tr>\n",
       "    <tr>\n",
       "      <th>26</th>\n",
       "      <td>992.4</td>\n",
       "      <td>191</td>\n",
       "      <td>23.4</td>\n",
       "      <td>20.9</td>\n",
       "      <td>85</td>\n",
       "      <td>15.84</td>\n",
       "      <td>171</td>\n",
       "      <td>7.6</td>\n",
       "      <td>297.2</td>\n",
       "      <td>343.2</td>\n",
       "      <td>300.1</td>\n",
       "    </tr>\n",
       "    <tr>\n",
       "      <th>27</th>\n",
       "      <td>991.6</td>\n",
       "      <td>198</td>\n",
       "      <td>23.4</td>\n",
       "      <td>20.9</td>\n",
       "      <td>86</td>\n",
       "      <td>15.87</td>\n",
       "      <td>171</td>\n",
       "      <td>7.5</td>\n",
       "      <td>297.3</td>\n",
       "      <td>343.4</td>\n",
       "      <td>300.1</td>\n",
       "    </tr>\n",
       "    <tr>\n",
       "      <th>28</th>\n",
       "      <td>990.8</td>\n",
       "      <td>205</td>\n",
       "      <td>23.3</td>\n",
       "      <td>20.9</td>\n",
       "      <td>86</td>\n",
       "      <td>15.86</td>\n",
       "      <td>171</td>\n",
       "      <td>7.5</td>\n",
       "      <td>297.3</td>\n",
       "      <td>343.3</td>\n",
       "      <td>300.1</td>\n",
       "    </tr>\n",
       "    <tr>\n",
       "      <th>29</th>\n",
       "      <td>990.0</td>\n",
       "      <td>212</td>\n",
       "      <td>23.2</td>\n",
       "      <td>20.9</td>\n",
       "      <td>86</td>\n",
       "      <td>15.87</td>\n",
       "      <td>170</td>\n",
       "      <td>7.5</td>\n",
       "      <td>297.2</td>\n",
       "      <td>343.3</td>\n",
       "      <td>300.1</td>\n",
       "    </tr>\n",
       "    <tr>\n",
       "      <th>...</th>\n",
       "      <td>...</td>\n",
       "      <td>...</td>\n",
       "      <td>...</td>\n",
       "      <td>...</td>\n",
       "      <td>...</td>\n",
       "      <td>...</td>\n",
       "      <td>...</td>\n",
       "      <td>...</td>\n",
       "      <td>...</td>\n",
       "      <td>...</td>\n",
       "      <td>...</td>\n",
       "    </tr>\n",
       "    <tr>\n",
       "      <th>2997</th>\n",
       "      <td>102.9</td>\n",
       "      <td>16266</td>\n",
       "      <td>-75.1</td>\n",
       "      <td>-89.2</td>\n",
       "      <td>10</td>\n",
       "      <td>0.00</td>\n",
       "      <td>271</td>\n",
       "      <td>24.3</td>\n",
       "      <td>379.3</td>\n",
       "      <td>379.3</td>\n",
       "      <td>379.3</td>\n",
       "    </tr>\n",
       "    <tr>\n",
       "      <th>2998</th>\n",
       "      <td>102.8</td>\n",
       "      <td>16270</td>\n",
       "      <td>-75.1</td>\n",
       "      <td>-89.2</td>\n",
       "      <td>10</td>\n",
       "      <td>0.00</td>\n",
       "      <td>271</td>\n",
       "      <td>24.3</td>\n",
       "      <td>379.4</td>\n",
       "      <td>379.4</td>\n",
       "      <td>379.4</td>\n",
       "    </tr>\n",
       "    <tr>\n",
       "      <th>2999</th>\n",
       "      <td>102.7</td>\n",
       "      <td>16278</td>\n",
       "      <td>-75.1</td>\n",
       "      <td>-89.2</td>\n",
       "      <td>10</td>\n",
       "      <td>0.00</td>\n",
       "      <td>271</td>\n",
       "      <td>24.4</td>\n",
       "      <td>379.4</td>\n",
       "      <td>379.4</td>\n",
       "      <td>379.4</td>\n",
       "    </tr>\n",
       "    <tr>\n",
       "      <th>3000</th>\n",
       "      <td>102.6</td>\n",
       "      <td>16282</td>\n",
       "      <td>-75.2</td>\n",
       "      <td>-89.2</td>\n",
       "      <td>10</td>\n",
       "      <td>0.00</td>\n",
       "      <td>271</td>\n",
       "      <td>24.4</td>\n",
       "      <td>379.5</td>\n",
       "      <td>379.5</td>\n",
       "      <td>379.5</td>\n",
       "    </tr>\n",
       "    <tr>\n",
       "      <th>3001</th>\n",
       "      <td>102.5</td>\n",
       "      <td>16290</td>\n",
       "      <td>-75.2</td>\n",
       "      <td>-89.3</td>\n",
       "      <td>10</td>\n",
       "      <td>0.00</td>\n",
       "      <td>271</td>\n",
       "      <td>24.4</td>\n",
       "      <td>379.5</td>\n",
       "      <td>379.5</td>\n",
       "      <td>379.5</td>\n",
       "    </tr>\n",
       "    <tr>\n",
       "      <th>3002</th>\n",
       "      <td>102.4</td>\n",
       "      <td>16293</td>\n",
       "      <td>-75.2</td>\n",
       "      <td>-89.3</td>\n",
       "      <td>10</td>\n",
       "      <td>0.00</td>\n",
       "      <td>271</td>\n",
       "      <td>24.5</td>\n",
       "      <td>379.5</td>\n",
       "      <td>379.5</td>\n",
       "      <td>379.5</td>\n",
       "    </tr>\n",
       "    <tr>\n",
       "      <th>3003</th>\n",
       "      <td>102.3</td>\n",
       "      <td>16301</td>\n",
       "      <td>-75.3</td>\n",
       "      <td>-89.3</td>\n",
       "      <td>10</td>\n",
       "      <td>0.00</td>\n",
       "      <td>271</td>\n",
       "      <td>24.5</td>\n",
       "      <td>379.5</td>\n",
       "      <td>379.5</td>\n",
       "      <td>379.5</td>\n",
       "    </tr>\n",
       "    <tr>\n",
       "      <th>3004</th>\n",
       "      <td>102.2</td>\n",
       "      <td>16305</td>\n",
       "      <td>-75.3</td>\n",
       "      <td>-89.3</td>\n",
       "      <td>10</td>\n",
       "      <td>0.00</td>\n",
       "      <td>271</td>\n",
       "      <td>24.6</td>\n",
       "      <td>379.5</td>\n",
       "      <td>379.6</td>\n",
       "      <td>379.5</td>\n",
       "    </tr>\n",
       "    <tr>\n",
       "      <th>3005</th>\n",
       "      <td>102.1</td>\n",
       "      <td>16309</td>\n",
       "      <td>-75.4</td>\n",
       "      <td>-89.3</td>\n",
       "      <td>10</td>\n",
       "      <td>0.00</td>\n",
       "      <td>271</td>\n",
       "      <td>24.6</td>\n",
       "      <td>379.6</td>\n",
       "      <td>379.6</td>\n",
       "      <td>379.6</td>\n",
       "    </tr>\n",
       "    <tr>\n",
       "      <th>3006</th>\n",
       "      <td>102.0</td>\n",
       "      <td>16318</td>\n",
       "      <td>-75.4</td>\n",
       "      <td>-89.3</td>\n",
       "      <td>10</td>\n",
       "      <td>0.00</td>\n",
       "      <td>271</td>\n",
       "      <td>24.6</td>\n",
       "      <td>379.7</td>\n",
       "      <td>379.7</td>\n",
       "      <td>379.7</td>\n",
       "    </tr>\n",
       "    <tr>\n",
       "      <th>3007</th>\n",
       "      <td>101.9</td>\n",
       "      <td>16322</td>\n",
       "      <td>-75.4</td>\n",
       "      <td>-89.3</td>\n",
       "      <td>10</td>\n",
       "      <td>0.00</td>\n",
       "      <td>271</td>\n",
       "      <td>24.7</td>\n",
       "      <td>379.8</td>\n",
       "      <td>379.8</td>\n",
       "      <td>379.8</td>\n",
       "    </tr>\n",
       "    <tr>\n",
       "      <th>3008</th>\n",
       "      <td>101.8</td>\n",
       "      <td>16326</td>\n",
       "      <td>-75.3</td>\n",
       "      <td>-89.3</td>\n",
       "      <td>10</td>\n",
       "      <td>0.00</td>\n",
       "      <td>272</td>\n",
       "      <td>24.7</td>\n",
       "      <td>380.0</td>\n",
       "      <td>380.0</td>\n",
       "      <td>380.0</td>\n",
       "    </tr>\n",
       "    <tr>\n",
       "      <th>3009</th>\n",
       "      <td>101.7</td>\n",
       "      <td>16335</td>\n",
       "      <td>-75.3</td>\n",
       "      <td>-89.3</td>\n",
       "      <td>10</td>\n",
       "      <td>0.00</td>\n",
       "      <td>272</td>\n",
       "      <td>24.7</td>\n",
       "      <td>380.1</td>\n",
       "      <td>380.1</td>\n",
       "      <td>380.1</td>\n",
       "    </tr>\n",
       "    <tr>\n",
       "      <th>3010</th>\n",
       "      <td>101.6</td>\n",
       "      <td>16339</td>\n",
       "      <td>-75.3</td>\n",
       "      <td>-89.3</td>\n",
       "      <td>10</td>\n",
       "      <td>0.00</td>\n",
       "      <td>272</td>\n",
       "      <td>24.7</td>\n",
       "      <td>380.2</td>\n",
       "      <td>380.2</td>\n",
       "      <td>380.2</td>\n",
       "    </tr>\n",
       "    <tr>\n",
       "      <th>3011</th>\n",
       "      <td>101.5</td>\n",
       "      <td>16343</td>\n",
       "      <td>-75.3</td>\n",
       "      <td>-89.3</td>\n",
       "      <td>10</td>\n",
       "      <td>0.00</td>\n",
       "      <td>272</td>\n",
       "      <td>24.7</td>\n",
       "      <td>380.3</td>\n",
       "      <td>380.3</td>\n",
       "      <td>380.3</td>\n",
       "    </tr>\n",
       "    <tr>\n",
       "      <th>3012</th>\n",
       "      <td>101.4</td>\n",
       "      <td>16351</td>\n",
       "      <td>-75.3</td>\n",
       "      <td>-89.3</td>\n",
       "      <td>10</td>\n",
       "      <td>0.00</td>\n",
       "      <td>273</td>\n",
       "      <td>24.7</td>\n",
       "      <td>380.4</td>\n",
       "      <td>380.4</td>\n",
       "      <td>380.4</td>\n",
       "    </tr>\n",
       "    <tr>\n",
       "      <th>3013</th>\n",
       "      <td>101.3</td>\n",
       "      <td>16355</td>\n",
       "      <td>-75.3</td>\n",
       "      <td>-89.3</td>\n",
       "      <td>10</td>\n",
       "      <td>0.00</td>\n",
       "      <td>273</td>\n",
       "      <td>24.7</td>\n",
       "      <td>380.5</td>\n",
       "      <td>380.5</td>\n",
       "      <td>380.5</td>\n",
       "    </tr>\n",
       "    <tr>\n",
       "      <th>3014</th>\n",
       "      <td>101.2</td>\n",
       "      <td>16364</td>\n",
       "      <td>-75.3</td>\n",
       "      <td>-89.3</td>\n",
       "      <td>10</td>\n",
       "      <td>0.00</td>\n",
       "      <td>273</td>\n",
       "      <td>24.7</td>\n",
       "      <td>380.6</td>\n",
       "      <td>380.6</td>\n",
       "      <td>380.6</td>\n",
       "    </tr>\n",
       "    <tr>\n",
       "      <th>3015</th>\n",
       "      <td>101.1</td>\n",
       "      <td>16368</td>\n",
       "      <td>-75.3</td>\n",
       "      <td>-89.3</td>\n",
       "      <td>10</td>\n",
       "      <td>0.00</td>\n",
       "      <td>274</td>\n",
       "      <td>24.7</td>\n",
       "      <td>380.7</td>\n",
       "      <td>380.7</td>\n",
       "      <td>380.7</td>\n",
       "    </tr>\n",
       "    <tr>\n",
       "      <th>3016</th>\n",
       "      <td>101.0</td>\n",
       "      <td>16372</td>\n",
       "      <td>-75.3</td>\n",
       "      <td>-89.3</td>\n",
       "      <td>10</td>\n",
       "      <td>0.00</td>\n",
       "      <td>274</td>\n",
       "      <td>24.7</td>\n",
       "      <td>380.8</td>\n",
       "      <td>380.9</td>\n",
       "      <td>380.8</td>\n",
       "    </tr>\n",
       "    <tr>\n",
       "      <th>3017</th>\n",
       "      <td>100.9</td>\n",
       "      <td>16381</td>\n",
       "      <td>-75.3</td>\n",
       "      <td>-89.3</td>\n",
       "      <td>10</td>\n",
       "      <td>0.00</td>\n",
       "      <td>275</td>\n",
       "      <td>24.6</td>\n",
       "      <td>381.0</td>\n",
       "      <td>381.0</td>\n",
       "      <td>381.0</td>\n",
       "    </tr>\n",
       "    <tr>\n",
       "      <th>3018</th>\n",
       "      <td>100.8</td>\n",
       "      <td>16385</td>\n",
       "      <td>-75.3</td>\n",
       "      <td>-89.3</td>\n",
       "      <td>10</td>\n",
       "      <td>0.00</td>\n",
       "      <td>275</td>\n",
       "      <td>24.6</td>\n",
       "      <td>381.2</td>\n",
       "      <td>381.2</td>\n",
       "      <td>381.2</td>\n",
       "    </tr>\n",
       "    <tr>\n",
       "      <th>3019</th>\n",
       "      <td>100.7</td>\n",
       "      <td>16389</td>\n",
       "      <td>-75.2</td>\n",
       "      <td>-89.3</td>\n",
       "      <td>10</td>\n",
       "      <td>0.00</td>\n",
       "      <td>275</td>\n",
       "      <td>24.6</td>\n",
       "      <td>381.3</td>\n",
       "      <td>381.3</td>\n",
       "      <td>381.3</td>\n",
       "    </tr>\n",
       "    <tr>\n",
       "      <th>3020</th>\n",
       "      <td>100.6</td>\n",
       "      <td>16398</td>\n",
       "      <td>-75.2</td>\n",
       "      <td>-89.3</td>\n",
       "      <td>10</td>\n",
       "      <td>0.00</td>\n",
       "      <td>276</td>\n",
       "      <td>24.5</td>\n",
       "      <td>381.5</td>\n",
       "      <td>381.5</td>\n",
       "      <td>381.5</td>\n",
       "    </tr>\n",
       "    <tr>\n",
       "      <th>3021</th>\n",
       "      <td>100.5</td>\n",
       "      <td>16402</td>\n",
       "      <td>-75.2</td>\n",
       "      <td>-89.3</td>\n",
       "      <td>10</td>\n",
       "      <td>0.00</td>\n",
       "      <td>276</td>\n",
       "      <td>24.4</td>\n",
       "      <td>381.7</td>\n",
       "      <td>381.7</td>\n",
       "      <td>381.7</td>\n",
       "    </tr>\n",
       "    <tr>\n",
       "      <th>3022</th>\n",
       "      <td>100.4</td>\n",
       "      <td>16407</td>\n",
       "      <td>-75.2</td>\n",
       "      <td>-89.3</td>\n",
       "      <td>10</td>\n",
       "      <td>0.00</td>\n",
       "      <td>277</td>\n",
       "      <td>24.4</td>\n",
       "      <td>381.8</td>\n",
       "      <td>381.8</td>\n",
       "      <td>381.8</td>\n",
       "    </tr>\n",
       "    <tr>\n",
       "      <th>3023</th>\n",
       "      <td>100.3</td>\n",
       "      <td>16416</td>\n",
       "      <td>-75.1</td>\n",
       "      <td>-89.3</td>\n",
       "      <td>10</td>\n",
       "      <td>0.00</td>\n",
       "      <td>277</td>\n",
       "      <td>24.3</td>\n",
       "      <td>382.1</td>\n",
       "      <td>382.1</td>\n",
       "      <td>382.1</td>\n",
       "    </tr>\n",
       "    <tr>\n",
       "      <th>3024</th>\n",
       "      <td>100.2</td>\n",
       "      <td>16420</td>\n",
       "      <td>-75.0</td>\n",
       "      <td>-89.3</td>\n",
       "      <td>9</td>\n",
       "      <td>0.00</td>\n",
       "      <td>278</td>\n",
       "      <td>24.2</td>\n",
       "      <td>382.3</td>\n",
       "      <td>382.3</td>\n",
       "      <td>382.3</td>\n",
       "    </tr>\n",
       "    <tr>\n",
       "      <th>3025</th>\n",
       "      <td>100.1</td>\n",
       "      <td>16425</td>\n",
       "      <td>-75.0</td>\n",
       "      <td>-89.2</td>\n",
       "      <td>9</td>\n",
       "      <td>0.00</td>\n",
       "      <td>278</td>\n",
       "      <td>24.1</td>\n",
       "      <td>382.4</td>\n",
       "      <td>382.4</td>\n",
       "      <td>382.4</td>\n",
       "    </tr>\n",
       "    <tr>\n",
       "      <th>3026</th>\n",
       "      <td>100.0</td>\n",
       "      <td>16432</td>\n",
       "      <td>-75.0</td>\n",
       "      <td>-89.2</td>\n",
       "      <td>10</td>\n",
       "      <td>0.00</td>\n",
       "      <td>278</td>\n",
       "      <td>24.1</td>\n",
       "      <td>382.5</td>\n",
       "      <td>382.6</td>\n",
       "      <td>382.5</td>\n",
       "    </tr>\n",
       "  </tbody>\n",
       "</table>\n",
       "<p>3027 rows × 11 columns</p>\n",
       "</div>"
      ],
      "text/plain": [
       "        PRES   HGHT   TEMP   DWPT RELH   MIXR DRCT  SPED   THTA   THTE   THTV\n",
       "0     1010.7     31   25.5   22.0   81  16.71  183   6.0  297.7  346.4  300.7\n",
       "1     1009.9     38   25.0   21.5   81  16.20  182   4.2  297.3  344.3  300.2\n",
       "2     1009.3     43   24.8   21.5   82  16.23  181   3.9  297.2  344.3  300.0\n",
       "3     1008.7     48   24.7   21.5   82  16.17  181   4.1  297.1  344.0  300.0\n",
       "4     1008.0     54   24.6   21.3   82  16.05  181   4.4  297.1  343.6  299.9\n",
       "5     1007.4     60   24.5   21.3   82  16.02  181   4.7  297.1  343.5  299.9\n",
       "6     1006.7     65   24.5   21.2   82  15.99  181   5.0  297.1  343.5  299.9\n",
       "7     1006.1     70   24.5   21.2   82  15.92  180   5.3  297.1  343.3  300.0\n",
       "8     1005.5     76   24.4   21.1   82  15.87  180   5.5  297.1  343.2  299.9\n",
       "9     1004.9     81   24.4   21.0   82  15.81  180   5.8  297.1  343.0  299.9\n",
       "10    1004.2     87   24.3   21.0   82  15.77  179   6.0  297.1  342.9  299.9\n",
       "11    1003.6     93   24.3   21.0   82  15.78  179   6.2  297.1  342.9  299.9\n",
       "12    1002.9     99   24.2   21.0   82  15.83  179   6.4  297.1  343.1  299.9\n",
       "13    1002.2    105   24.2   21.0   83  15.85  178   6.6  297.1  343.2  300.0\n",
       "14    1001.5    111   24.1   21.0   83  15.86  178   6.8  297.2  343.2  300.0\n",
       "15    1000.8    117   24.1   21.0   83  15.84  177   6.9  297.2  343.2  300.0\n",
       "16    1000.0    124   24.0   20.9   83  15.74  176   7.2  297.1  342.8  299.9\n",
       "17     999.3    130   23.9   20.8   83  15.68  176   7.2  297.1  342.6  299.9\n",
       "18     998.6    137   23.8   20.9   84  15.75  176   7.3  297.1  342.8  299.9\n",
       "19     997.8    144   23.9   21.0   84  15.84  175   7.4  297.2  343.2  300.0\n",
       "20     997.0    150   23.8   20.9   84  15.80  175   7.5  297.2  343.1  300.0\n",
       "21     996.3    157   23.7   20.8   84  15.75  174   7.5  297.2  342.9  300.0\n",
       "22     995.5    164   23.7   20.9   84  15.80  174   7.5  297.2  343.1  300.0\n",
       "23     994.7    170   23.7   21.0   85  15.89  173   7.6  297.3  343.4  300.1\n",
       "24     994.0    177   23.6   20.9   85  15.88  172   7.6  297.3  343.4  300.1\n",
       "25     993.2    184   23.5   20.9   85  15.83  172   7.6  297.2  343.2  300.1\n",
       "26     992.4    191   23.4   20.9   85  15.84  171   7.6  297.2  343.2  300.1\n",
       "27     991.6    198   23.4   20.9   86  15.87  171   7.5  297.3  343.4  300.1\n",
       "28     990.8    205   23.3   20.9   86  15.86  171   7.5  297.3  343.3  300.1\n",
       "29     990.0    212   23.2   20.9   86  15.87  170   7.5  297.2  343.3  300.1\n",
       "...      ...    ...    ...    ...  ...    ...  ...   ...    ...    ...    ...\n",
       "2997   102.9  16266  -75.1  -89.2   10   0.00  271  24.3  379.3  379.3  379.3\n",
       "2998   102.8  16270  -75.1  -89.2   10   0.00  271  24.3  379.4  379.4  379.4\n",
       "2999   102.7  16278  -75.1  -89.2   10   0.00  271  24.4  379.4  379.4  379.4\n",
       "3000   102.6  16282  -75.2  -89.2   10   0.00  271  24.4  379.5  379.5  379.5\n",
       "3001   102.5  16290  -75.2  -89.3   10   0.00  271  24.4  379.5  379.5  379.5\n",
       "3002   102.4  16293  -75.2  -89.3   10   0.00  271  24.5  379.5  379.5  379.5\n",
       "3003   102.3  16301  -75.3  -89.3   10   0.00  271  24.5  379.5  379.5  379.5\n",
       "3004   102.2  16305  -75.3  -89.3   10   0.00  271  24.6  379.5  379.6  379.5\n",
       "3005   102.1  16309  -75.4  -89.3   10   0.00  271  24.6  379.6  379.6  379.6\n",
       "3006   102.0  16318  -75.4  -89.3   10   0.00  271  24.6  379.7  379.7  379.7\n",
       "3007   101.9  16322  -75.4  -89.3   10   0.00  271  24.7  379.8  379.8  379.8\n",
       "3008   101.8  16326  -75.3  -89.3   10   0.00  272  24.7  380.0  380.0  380.0\n",
       "3009   101.7  16335  -75.3  -89.3   10   0.00  272  24.7  380.1  380.1  380.1\n",
       "3010   101.6  16339  -75.3  -89.3   10   0.00  272  24.7  380.2  380.2  380.2\n",
       "3011   101.5  16343  -75.3  -89.3   10   0.00  272  24.7  380.3  380.3  380.3\n",
       "3012   101.4  16351  -75.3  -89.3   10   0.00  273  24.7  380.4  380.4  380.4\n",
       "3013   101.3  16355  -75.3  -89.3   10   0.00  273  24.7  380.5  380.5  380.5\n",
       "3014   101.2  16364  -75.3  -89.3   10   0.00  273  24.7  380.6  380.6  380.6\n",
       "3015   101.1  16368  -75.3  -89.3   10   0.00  274  24.7  380.7  380.7  380.7\n",
       "3016   101.0  16372  -75.3  -89.3   10   0.00  274  24.7  380.8  380.9  380.8\n",
       "3017   100.9  16381  -75.3  -89.3   10   0.00  275  24.6  381.0  381.0  381.0\n",
       "3018   100.8  16385  -75.3  -89.3   10   0.00  275  24.6  381.2  381.2  381.2\n",
       "3019   100.7  16389  -75.2  -89.3   10   0.00  275  24.6  381.3  381.3  381.3\n",
       "3020   100.6  16398  -75.2  -89.3   10   0.00  276  24.5  381.5  381.5  381.5\n",
       "3021   100.5  16402  -75.2  -89.3   10   0.00  276  24.4  381.7  381.7  381.7\n",
       "3022   100.4  16407  -75.2  -89.3   10   0.00  277  24.4  381.8  381.8  381.8\n",
       "3023   100.3  16416  -75.1  -89.3   10   0.00  277  24.3  382.1  382.1  382.1\n",
       "3024   100.2  16420  -75.0  -89.3    9   0.00  278  24.2  382.3  382.3  382.3\n",
       "3025   100.1  16425  -75.0  -89.2    9   0.00  278  24.1  382.4  382.4  382.4\n",
       "3026   100.0  16432  -75.0  -89.2   10   0.00  278  24.1  382.5  382.6  382.5\n",
       "\n",
       "[3027 rows x 11 columns]"
      ]
     },
     "execution_count": 2,
     "metadata": {},
     "output_type": "execute_result"
    }
   ],
   "source": [
    "stnm = \"91165\"\n",
    "dt = datetime(2023, 4, 1, 0)\n",
    "print(dt.strftime('%Y-%m-%d-%H'))\n",
    "hour = '00'\n",
    "# 2023-03-17 12:00:00\n",
    "param_dict = wyoming_radiosonde.build_param_dict(stnm, dt)\n",
    "print(param_dict)\n",
    "\n",
    "# param_dict = wyoming_radiosonde.build_param_dict(stnm, dt)\n",
    "# print(param_dict)\n",
    "print(wyoming_radiosonde.build_url(param_dict))\n",
    "data, units = wyoming_radiosonde.get_data(stnm, dt)\n",
    "data\n",
    "\n",
    "# data.to_csv('radiosonde_readings/2023-03-17-12.csv', index=False)"
   ]
  },
  {
   "cell_type": "markdown",
   "metadata": {},
   "source": [
    "# Get data for 2023"
   ]
  },
  {
   "cell_type": "code",
   "execution_count": 4,
   "metadata": {
    "scrolled": true
   },
   "outputs": [
    {
     "name": "stdout",
     "output_type": "stream",
     "text": [
      "https://weather.uwyo.edu/cgi-bin/bufrraob.py?type=TEXT:LIST&id=91165&datetime=2023-08-24%2000:00:00\n"
     ]
    },
    {
     "name": "stderr",
     "output_type": "stream",
     "text": [
      "C:\\Users\\Angela\\Anaconda3\\lib\\site-packages\\urllib3\\connectionpool.py:847: InsecureRequestWarning: Unverified HTTPS request is being made. Adding certificate verification is strongly advised. See: https://urllib3.readthedocs.io/en/latest/advanced-usage.html#ssl-warnings\n",
      "  InsecureRequestWarning)\n"
     ]
    },
    {
     "name": "stdout",
     "output_type": "stream",
     "text": [
      "https://weather.uwyo.edu/cgi-bin/bufrraob.py?type=TEXT:LIST&id=91165&datetime=2023-08-24%2012:00:00\n"
     ]
    },
    {
     "name": "stderr",
     "output_type": "stream",
     "text": [
      "C:\\Users\\Angela\\Anaconda3\\lib\\site-packages\\urllib3\\connectionpool.py:847: InsecureRequestWarning: Unverified HTTPS request is being made. Adding certificate verification is strongly advised. See: https://urllib3.readthedocs.io/en/latest/advanced-usage.html#ssl-warnings\n",
      "  InsecureRequestWarning)\n"
     ]
    },
    {
     "name": "stdout",
     "output_type": "stream",
     "text": [
      "https://weather.uwyo.edu/cgi-bin/bufrraob.py?type=TEXT:LIST&id=91165&datetime=2023-08-25%2000:00:00\n"
     ]
    },
    {
     "name": "stderr",
     "output_type": "stream",
     "text": [
      "C:\\Users\\Angela\\Anaconda3\\lib\\site-packages\\urllib3\\connectionpool.py:847: InsecureRequestWarning: Unverified HTTPS request is being made. Adding certificate verification is strongly advised. See: https://urllib3.readthedocs.io/en/latest/advanced-usage.html#ssl-warnings\n",
      "  InsecureRequestWarning)\n"
     ]
    },
    {
     "name": "stdout",
     "output_type": "stream",
     "text": [
      "https://weather.uwyo.edu/cgi-bin/bufrraob.py?type=TEXT:LIST&id=91165&datetime=2023-08-25%2012:00:00\n"
     ]
    },
    {
     "name": "stderr",
     "output_type": "stream",
     "text": [
      "C:\\Users\\Angela\\Anaconda3\\lib\\site-packages\\urllib3\\connectionpool.py:847: InsecureRequestWarning: Unverified HTTPS request is being made. Adding certificate verification is strongly advised. See: https://urllib3.readthedocs.io/en/latest/advanced-usage.html#ssl-warnings\n",
      "  InsecureRequestWarning)\n"
     ]
    },
    {
     "name": "stdout",
     "output_type": "stream",
     "text": [
      "https://weather.uwyo.edu/cgi-bin/bufrraob.py?type=TEXT:LIST&id=91165&datetime=2023-08-26%2000:00:00\n"
     ]
    },
    {
     "name": "stderr",
     "output_type": "stream",
     "text": [
      "C:\\Users\\Angela\\Anaconda3\\lib\\site-packages\\urllib3\\connectionpool.py:847: InsecureRequestWarning: Unverified HTTPS request is being made. Adding certificate verification is strongly advised. See: https://urllib3.readthedocs.io/en/latest/advanced-usage.html#ssl-warnings\n",
      "  InsecureRequestWarning)\n"
     ]
    },
    {
     "name": "stdout",
     "output_type": "stream",
     "text": [
      "https://weather.uwyo.edu/cgi-bin/bufrraob.py?type=TEXT:LIST&id=91165&datetime=2023-08-26%2012:00:00\n"
     ]
    },
    {
     "name": "stderr",
     "output_type": "stream",
     "text": [
      "C:\\Users\\Angela\\Anaconda3\\lib\\site-packages\\urllib3\\connectionpool.py:847: InsecureRequestWarning: Unverified HTTPS request is being made. Adding certificate verification is strongly advised. See: https://urllib3.readthedocs.io/en/latest/advanced-usage.html#ssl-warnings\n",
      "  InsecureRequestWarning)\n"
     ]
    },
    {
     "name": "stdout",
     "output_type": "stream",
     "text": [
      "https://weather.uwyo.edu/cgi-bin/bufrraob.py?type=TEXT:LIST&id=91165&datetime=2023-08-27%2000:00:00\n"
     ]
    },
    {
     "name": "stderr",
     "output_type": "stream",
     "text": [
      "C:\\Users\\Angela\\Anaconda3\\lib\\site-packages\\urllib3\\connectionpool.py:847: InsecureRequestWarning: Unverified HTTPS request is being made. Adding certificate verification is strongly advised. See: https://urllib3.readthedocs.io/en/latest/advanced-usage.html#ssl-warnings\n",
      "  InsecureRequestWarning)\n"
     ]
    },
    {
     "name": "stdout",
     "output_type": "stream",
     "text": [
      "https://weather.uwyo.edu/cgi-bin/bufrraob.py?type=TEXT:LIST&id=91165&datetime=2023-08-27%2012:00:00\n"
     ]
    },
    {
     "name": "stderr",
     "output_type": "stream",
     "text": [
      "C:\\Users\\Angela\\Anaconda3\\lib\\site-packages\\urllib3\\connectionpool.py:847: InsecureRequestWarning: Unverified HTTPS request is being made. Adding certificate verification is strongly advised. See: https://urllib3.readthedocs.io/en/latest/advanced-usage.html#ssl-warnings\n",
      "  InsecureRequestWarning)\n"
     ]
    },
    {
     "name": "stdout",
     "output_type": "stream",
     "text": [
      "https://weather.uwyo.edu/cgi-bin/bufrraob.py?type=TEXT:LIST&id=91165&datetime=2023-08-28%2000:00:00\n"
     ]
    },
    {
     "name": "stderr",
     "output_type": "stream",
     "text": [
      "C:\\Users\\Angela\\Anaconda3\\lib\\site-packages\\urllib3\\connectionpool.py:847: InsecureRequestWarning: Unverified HTTPS request is being made. Adding certificate verification is strongly advised. See: https://urllib3.readthedocs.io/en/latest/advanced-usage.html#ssl-warnings\n",
      "  InsecureRequestWarning)\n"
     ]
    },
    {
     "name": "stdout",
     "output_type": "stream",
     "text": [
      "https://weather.uwyo.edu/cgi-bin/bufrraob.py?type=TEXT:LIST&id=91165&datetime=2023-08-28%2012:00:00\n"
     ]
    },
    {
     "name": "stderr",
     "output_type": "stream",
     "text": [
      "C:\\Users\\Angela\\Anaconda3\\lib\\site-packages\\urllib3\\connectionpool.py:847: InsecureRequestWarning: Unverified HTTPS request is being made. Adding certificate verification is strongly advised. See: https://urllib3.readthedocs.io/en/latest/advanced-usage.html#ssl-warnings\n",
      "  InsecureRequestWarning)\n"
     ]
    },
    {
     "name": "stdout",
     "output_type": "stream",
     "text": [
      "https://weather.uwyo.edu/cgi-bin/bufrraob.py?type=TEXT:LIST&id=91165&datetime=2023-08-29%2000:00:00\n"
     ]
    },
    {
     "name": "stderr",
     "output_type": "stream",
     "text": [
      "C:\\Users\\Angela\\Anaconda3\\lib\\site-packages\\urllib3\\connectionpool.py:847: InsecureRequestWarning: Unverified HTTPS request is being made. Adding certificate verification is strongly advised. See: https://urllib3.readthedocs.io/en/latest/advanced-usage.html#ssl-warnings\n",
      "  InsecureRequestWarning)\n"
     ]
    },
    {
     "name": "stdout",
     "output_type": "stream",
     "text": [
      "https://weather.uwyo.edu/cgi-bin/bufrraob.py?type=TEXT:LIST&id=91165&datetime=2023-08-29%2012:00:00\n"
     ]
    },
    {
     "name": "stderr",
     "output_type": "stream",
     "text": [
      "C:\\Users\\Angela\\Anaconda3\\lib\\site-packages\\urllib3\\connectionpool.py:847: InsecureRequestWarning: Unverified HTTPS request is being made. Adding certificate verification is strongly advised. See: https://urllib3.readthedocs.io/en/latest/advanced-usage.html#ssl-warnings\n",
      "  InsecureRequestWarning)\n"
     ]
    },
    {
     "name": "stdout",
     "output_type": "stream",
     "text": [
      "https://weather.uwyo.edu/cgi-bin/bufrraob.py?type=TEXT:LIST&id=91165&datetime=2023-08-30%2000:00:00\n"
     ]
    },
    {
     "name": "stderr",
     "output_type": "stream",
     "text": [
      "C:\\Users\\Angela\\Anaconda3\\lib\\site-packages\\urllib3\\connectionpool.py:847: InsecureRequestWarning: Unverified HTTPS request is being made. Adding certificate verification is strongly advised. See: https://urllib3.readthedocs.io/en/latest/advanced-usage.html#ssl-warnings\n",
      "  InsecureRequestWarning)\n"
     ]
    },
    {
     "name": "stdout",
     "output_type": "stream",
     "text": [
      "https://weather.uwyo.edu/cgi-bin/bufrraob.py?type=TEXT:LIST&id=91165&datetime=2023-08-30%2012:00:00\n"
     ]
    },
    {
     "name": "stderr",
     "output_type": "stream",
     "text": [
      "C:\\Users\\Angela\\Anaconda3\\lib\\site-packages\\urllib3\\connectionpool.py:847: InsecureRequestWarning: Unverified HTTPS request is being made. Adding certificate verification is strongly advised. See: https://urllib3.readthedocs.io/en/latest/advanced-usage.html#ssl-warnings\n",
      "  InsecureRequestWarning)\n"
     ]
    },
    {
     "name": "stdout",
     "output_type": "stream",
     "text": [
      "https://weather.uwyo.edu/cgi-bin/bufrraob.py?type=TEXT:LIST&id=91165&datetime=2023-08-31%2000:00:00\n"
     ]
    },
    {
     "name": "stderr",
     "output_type": "stream",
     "text": [
      "C:\\Users\\Angela\\Anaconda3\\lib\\site-packages\\urllib3\\connectionpool.py:847: InsecureRequestWarning: Unverified HTTPS request is being made. Adding certificate verification is strongly advised. See: https://urllib3.readthedocs.io/en/latest/advanced-usage.html#ssl-warnings\n",
      "  InsecureRequestWarning)\n"
     ]
    },
    {
     "name": "stdout",
     "output_type": "stream",
     "text": [
      "https://weather.uwyo.edu/cgi-bin/bufrraob.py?type=TEXT:LIST&id=91165&datetime=2023-08-31%2012:00:00\n"
     ]
    },
    {
     "name": "stderr",
     "output_type": "stream",
     "text": [
      "C:\\Users\\Angela\\Anaconda3\\lib\\site-packages\\urllib3\\connectionpool.py:847: InsecureRequestWarning: Unverified HTTPS request is being made. Adding certificate verification is strongly advised. See: https://urllib3.readthedocs.io/en/latest/advanced-usage.html#ssl-warnings\n",
      "  InsecureRequestWarning)\n"
     ]
    },
    {
     "name": "stdout",
     "output_type": "stream",
     "text": [
      "Moving to September\n",
      "https://weather.uwyo.edu/cgi-bin/bufrraob.py?type=TEXT:LIST&id=91165&datetime=2023-09-01%2000:00:00\n"
     ]
    },
    {
     "name": "stderr",
     "output_type": "stream",
     "text": [
      "C:\\Users\\Angela\\Anaconda3\\lib\\site-packages\\urllib3\\connectionpool.py:847: InsecureRequestWarning: Unverified HTTPS request is being made. Adding certificate verification is strongly advised. See: https://urllib3.readthedocs.io/en/latest/advanced-usage.html#ssl-warnings\n",
      "  InsecureRequestWarning)\n"
     ]
    },
    {
     "name": "stdout",
     "output_type": "stream",
     "text": [
      "https://weather.uwyo.edu/cgi-bin/bufrraob.py?type=TEXT:LIST&id=91165&datetime=2023-09-01%2012:00:00\n"
     ]
    },
    {
     "name": "stderr",
     "output_type": "stream",
     "text": [
      "C:\\Users\\Angela\\Anaconda3\\lib\\site-packages\\urllib3\\connectionpool.py:847: InsecureRequestWarning: Unverified HTTPS request is being made. Adding certificate verification is strongly advised. See: https://urllib3.readthedocs.io/en/latest/advanced-usage.html#ssl-warnings\n",
      "  InsecureRequestWarning)\n"
     ]
    },
    {
     "name": "stdout",
     "output_type": "stream",
     "text": [
      "https://weather.uwyo.edu/cgi-bin/bufrraob.py?type=TEXT:LIST&id=91165&datetime=2023-09-02%2000:00:00\n"
     ]
    },
    {
     "name": "stderr",
     "output_type": "stream",
     "text": [
      "C:\\Users\\Angela\\Anaconda3\\lib\\site-packages\\urllib3\\connectionpool.py:847: InsecureRequestWarning: Unverified HTTPS request is being made. Adding certificate verification is strongly advised. See: https://urllib3.readthedocs.io/en/latest/advanced-usage.html#ssl-warnings\n",
      "  InsecureRequestWarning)\n"
     ]
    },
    {
     "name": "stdout",
     "output_type": "stream",
     "text": [
      "https://weather.uwyo.edu/cgi-bin/bufrraob.py?type=TEXT:LIST&id=91165&datetime=2023-09-02%2012:00:00\n"
     ]
    },
    {
     "name": "stderr",
     "output_type": "stream",
     "text": [
      "C:\\Users\\Angela\\Anaconda3\\lib\\site-packages\\urllib3\\connectionpool.py:847: InsecureRequestWarning: Unverified HTTPS request is being made. Adding certificate verification is strongly advised. See: https://urllib3.readthedocs.io/en/latest/advanced-usage.html#ssl-warnings\n",
      "  InsecureRequestWarning)\n"
     ]
    },
    {
     "name": "stdout",
     "output_type": "stream",
     "text": [
      "https://weather.uwyo.edu/cgi-bin/bufrraob.py?type=TEXT:LIST&id=91165&datetime=2023-09-03%2000:00:00\n"
     ]
    },
    {
     "name": "stderr",
     "output_type": "stream",
     "text": [
      "C:\\Users\\Angela\\Anaconda3\\lib\\site-packages\\urllib3\\connectionpool.py:847: InsecureRequestWarning: Unverified HTTPS request is being made. Adding certificate verification is strongly advised. See: https://urllib3.readthedocs.io/en/latest/advanced-usage.html#ssl-warnings\n",
      "  InsecureRequestWarning)\n"
     ]
    },
    {
     "name": "stdout",
     "output_type": "stream",
     "text": [
      "https://weather.uwyo.edu/cgi-bin/bufrraob.py?type=TEXT:LIST&id=91165&datetime=2023-09-03%2012:00:00\n"
     ]
    },
    {
     "name": "stderr",
     "output_type": "stream",
     "text": [
      "C:\\Users\\Angela\\Anaconda3\\lib\\site-packages\\urllib3\\connectionpool.py:847: InsecureRequestWarning: Unverified HTTPS request is being made. Adding certificate verification is strongly advised. See: https://urllib3.readthedocs.io/en/latest/advanced-usage.html#ssl-warnings\n",
      "  InsecureRequestWarning)\n"
     ]
    },
    {
     "name": "stdout",
     "output_type": "stream",
     "text": [
      "https://weather.uwyo.edu/cgi-bin/bufrraob.py?type=TEXT:LIST&id=91165&datetime=2023-09-04%2000:00:00\n"
     ]
    },
    {
     "name": "stderr",
     "output_type": "stream",
     "text": [
      "C:\\Users\\Angela\\Anaconda3\\lib\\site-packages\\urllib3\\connectionpool.py:847: InsecureRequestWarning: Unverified HTTPS request is being made. Adding certificate verification is strongly advised. See: https://urllib3.readthedocs.io/en/latest/advanced-usage.html#ssl-warnings\n",
      "  InsecureRequestWarning)\n"
     ]
    },
    {
     "name": "stdout",
     "output_type": "stream",
     "text": [
      "https://weather.uwyo.edu/cgi-bin/bufrraob.py?type=TEXT:LIST&id=91165&datetime=2023-09-04%2012:00:00\n"
     ]
    },
    {
     "name": "stderr",
     "output_type": "stream",
     "text": [
      "C:\\Users\\Angela\\Anaconda3\\lib\\site-packages\\urllib3\\connectionpool.py:847: InsecureRequestWarning: Unverified HTTPS request is being made. Adding certificate verification is strongly advised. See: https://urllib3.readthedocs.io/en/latest/advanced-usage.html#ssl-warnings\n",
      "  InsecureRequestWarning)\n"
     ]
    },
    {
     "name": "stdout",
     "output_type": "stream",
     "text": [
      "https://weather.uwyo.edu/cgi-bin/bufrraob.py?type=TEXT:LIST&id=91165&datetime=2023-09-05%2000:00:00\n"
     ]
    },
    {
     "name": "stderr",
     "output_type": "stream",
     "text": [
      "C:\\Users\\Angela\\Anaconda3\\lib\\site-packages\\urllib3\\connectionpool.py:847: InsecureRequestWarning: Unverified HTTPS request is being made. Adding certificate verification is strongly advised. See: https://urllib3.readthedocs.io/en/latest/advanced-usage.html#ssl-warnings\n",
      "  InsecureRequestWarning)\n"
     ]
    },
    {
     "name": "stdout",
     "output_type": "stream",
     "text": [
      "https://weather.uwyo.edu/cgi-bin/bufrraob.py?type=TEXT:LIST&id=91165&datetime=2023-09-05%2012:00:00\n"
     ]
    },
    {
     "name": "stderr",
     "output_type": "stream",
     "text": [
      "C:\\Users\\Angela\\Anaconda3\\lib\\site-packages\\urllib3\\connectionpool.py:847: InsecureRequestWarning: Unverified HTTPS request is being made. Adding certificate verification is strongly advised. See: https://urllib3.readthedocs.io/en/latest/advanced-usage.html#ssl-warnings\n",
      "  InsecureRequestWarning)\n"
     ]
    },
    {
     "name": "stdout",
     "output_type": "stream",
     "text": [
      "https://weather.uwyo.edu/cgi-bin/bufrraob.py?type=TEXT:LIST&id=91165&datetime=2023-09-06%2000:00:00\n"
     ]
    },
    {
     "name": "stderr",
     "output_type": "stream",
     "text": [
      "C:\\Users\\Angela\\Anaconda3\\lib\\site-packages\\urllib3\\connectionpool.py:847: InsecureRequestWarning: Unverified HTTPS request is being made. Adding certificate verification is strongly advised. See: https://urllib3.readthedocs.io/en/latest/advanced-usage.html#ssl-warnings\n",
      "  InsecureRequestWarning)\n"
     ]
    },
    {
     "name": "stdout",
     "output_type": "stream",
     "text": [
      "https://weather.uwyo.edu/cgi-bin/bufrraob.py?type=TEXT:LIST&id=91165&datetime=2023-09-06%2012:00:00\n"
     ]
    },
    {
     "name": "stderr",
     "output_type": "stream",
     "text": [
      "C:\\Users\\Angela\\Anaconda3\\lib\\site-packages\\urllib3\\connectionpool.py:847: InsecureRequestWarning: Unverified HTTPS request is being made. Adding certificate verification is strongly advised. See: https://urllib3.readthedocs.io/en/latest/advanced-usage.html#ssl-warnings\n",
      "  InsecureRequestWarning)\n"
     ]
    },
    {
     "name": "stdout",
     "output_type": "stream",
     "text": [
      "https://weather.uwyo.edu/cgi-bin/bufrraob.py?type=TEXT:LIST&id=91165&datetime=2023-09-07%2000:00:00\n"
     ]
    },
    {
     "name": "stderr",
     "output_type": "stream",
     "text": [
      "C:\\Users\\Angela\\Anaconda3\\lib\\site-packages\\urllib3\\connectionpool.py:847: InsecureRequestWarning: Unverified HTTPS request is being made. Adding certificate verification is strongly advised. See: https://urllib3.readthedocs.io/en/latest/advanced-usage.html#ssl-warnings\n",
      "  InsecureRequestWarning)\n"
     ]
    },
    {
     "name": "stdout",
     "output_type": "stream",
     "text": [
      "https://weather.uwyo.edu/cgi-bin/bufrraob.py?type=TEXT:LIST&id=91165&datetime=2023-09-07%2012:00:00\n"
     ]
    },
    {
     "name": "stderr",
     "output_type": "stream",
     "text": [
      "C:\\Users\\Angela\\Anaconda3\\lib\\site-packages\\urllib3\\connectionpool.py:847: InsecureRequestWarning: Unverified HTTPS request is being made. Adding certificate verification is strongly advised. See: https://urllib3.readthedocs.io/en/latest/advanced-usage.html#ssl-warnings\n",
      "  InsecureRequestWarning)\n"
     ]
    },
    {
     "name": "stdout",
     "output_type": "stream",
     "text": [
      "https://weather.uwyo.edu/cgi-bin/bufrraob.py?type=TEXT:LIST&id=91165&datetime=2023-09-08%2000:00:00\n"
     ]
    },
    {
     "name": "stderr",
     "output_type": "stream",
     "text": [
      "C:\\Users\\Angela\\Anaconda3\\lib\\site-packages\\urllib3\\connectionpool.py:847: InsecureRequestWarning: Unverified HTTPS request is being made. Adding certificate verification is strongly advised. See: https://urllib3.readthedocs.io/en/latest/advanced-usage.html#ssl-warnings\n",
      "  InsecureRequestWarning)\n"
     ]
    },
    {
     "name": "stdout",
     "output_type": "stream",
     "text": [
      "https://weather.uwyo.edu/cgi-bin/bufrraob.py?type=TEXT:LIST&id=91165&datetime=2023-09-08%2012:00:00\n"
     ]
    },
    {
     "name": "stderr",
     "output_type": "stream",
     "text": [
      "C:\\Users\\Angela\\Anaconda3\\lib\\site-packages\\urllib3\\connectionpool.py:847: InsecureRequestWarning: Unverified HTTPS request is being made. Adding certificate verification is strongly advised. See: https://urllib3.readthedocs.io/en/latest/advanced-usage.html#ssl-warnings\n",
      "  InsecureRequestWarning)\n"
     ]
    },
    {
     "name": "stdout",
     "output_type": "stream",
     "text": [
      "https://weather.uwyo.edu/cgi-bin/bufrraob.py?type=TEXT:LIST&id=91165&datetime=2023-09-09%2000:00:00\n"
     ]
    },
    {
     "name": "stderr",
     "output_type": "stream",
     "text": [
      "C:\\Users\\Angela\\Anaconda3\\lib\\site-packages\\urllib3\\connectionpool.py:847: InsecureRequestWarning: Unverified HTTPS request is being made. Adding certificate verification is strongly advised. See: https://urllib3.readthedocs.io/en/latest/advanced-usage.html#ssl-warnings\n",
      "  InsecureRequestWarning)\n"
     ]
    },
    {
     "name": "stdout",
     "output_type": "stream",
     "text": [
      "https://weather.uwyo.edu/cgi-bin/bufrraob.py?type=TEXT:LIST&id=91165&datetime=2023-09-09%2012:00:00\n"
     ]
    },
    {
     "name": "stderr",
     "output_type": "stream",
     "text": [
      "C:\\Users\\Angela\\Anaconda3\\lib\\site-packages\\urllib3\\connectionpool.py:847: InsecureRequestWarning: Unverified HTTPS request is being made. Adding certificate verification is strongly advised. See: https://urllib3.readthedocs.io/en/latest/advanced-usage.html#ssl-warnings\n",
      "  InsecureRequestWarning)\n"
     ]
    },
    {
     "name": "stdout",
     "output_type": "stream",
     "text": [
      "https://weather.uwyo.edu/cgi-bin/bufrraob.py?type=TEXT:LIST&id=91165&datetime=2023-09-10%2000:00:00\n"
     ]
    },
    {
     "name": "stderr",
     "output_type": "stream",
     "text": [
      "C:\\Users\\Angela\\Anaconda3\\lib\\site-packages\\urllib3\\connectionpool.py:847: InsecureRequestWarning: Unverified HTTPS request is being made. Adding certificate verification is strongly advised. See: https://urllib3.readthedocs.io/en/latest/advanced-usage.html#ssl-warnings\n",
      "  InsecureRequestWarning)\n"
     ]
    },
    {
     "name": "stdout",
     "output_type": "stream",
     "text": [
      "https://weather.uwyo.edu/cgi-bin/bufrraob.py?type=TEXT:LIST&id=91165&datetime=2023-09-10%2012:00:00\n"
     ]
    },
    {
     "name": "stderr",
     "output_type": "stream",
     "text": [
      "C:\\Users\\Angela\\Anaconda3\\lib\\site-packages\\urllib3\\connectionpool.py:847: InsecureRequestWarning: Unverified HTTPS request is being made. Adding certificate verification is strongly advised. See: https://urllib3.readthedocs.io/en/latest/advanced-usage.html#ssl-warnings\n",
      "  InsecureRequestWarning)\n"
     ]
    },
    {
     "name": "stdout",
     "output_type": "stream",
     "text": [
      "https://weather.uwyo.edu/cgi-bin/bufrraob.py?type=TEXT:LIST&id=91165&datetime=2023-09-11%2000:00:00\n"
     ]
    },
    {
     "name": "stderr",
     "output_type": "stream",
     "text": [
      "C:\\Users\\Angela\\Anaconda3\\lib\\site-packages\\urllib3\\connectionpool.py:847: InsecureRequestWarning: Unverified HTTPS request is being made. Adding certificate verification is strongly advised. See: https://urllib3.readthedocs.io/en/latest/advanced-usage.html#ssl-warnings\n",
      "  InsecureRequestWarning)\n"
     ]
    },
    {
     "name": "stdout",
     "output_type": "stream",
     "text": [
      "https://weather.uwyo.edu/cgi-bin/bufrraob.py?type=TEXT:LIST&id=91165&datetime=2023-09-11%2012:00:00\n"
     ]
    },
    {
     "name": "stderr",
     "output_type": "stream",
     "text": [
      "C:\\Users\\Angela\\Anaconda3\\lib\\site-packages\\urllib3\\connectionpool.py:847: InsecureRequestWarning: Unverified HTTPS request is being made. Adding certificate verification is strongly advised. See: https://urllib3.readthedocs.io/en/latest/advanced-usage.html#ssl-warnings\n",
      "  InsecureRequestWarning)\n"
     ]
    },
    {
     "name": "stdout",
     "output_type": "stream",
     "text": [
      "https://weather.uwyo.edu/cgi-bin/bufrraob.py?type=TEXT:LIST&id=91165&datetime=2023-09-12%2000:00:00\n"
     ]
    },
    {
     "name": "stderr",
     "output_type": "stream",
     "text": [
      "C:\\Users\\Angela\\Anaconda3\\lib\\site-packages\\urllib3\\connectionpool.py:847: InsecureRequestWarning: Unverified HTTPS request is being made. Adding certificate verification is strongly advised. See: https://urllib3.readthedocs.io/en/latest/advanced-usage.html#ssl-warnings\n",
      "  InsecureRequestWarning)\n"
     ]
    },
    {
     "name": "stdout",
     "output_type": "stream",
     "text": [
      "https://weather.uwyo.edu/cgi-bin/bufrraob.py?type=TEXT:LIST&id=91165&datetime=2023-09-12%2012:00:00\n"
     ]
    },
    {
     "name": "stderr",
     "output_type": "stream",
     "text": [
      "C:\\Users\\Angela\\Anaconda3\\lib\\site-packages\\urllib3\\connectionpool.py:847: InsecureRequestWarning: Unverified HTTPS request is being made. Adding certificate verification is strongly advised. See: https://urllib3.readthedocs.io/en/latest/advanced-usage.html#ssl-warnings\n",
      "  InsecureRequestWarning)\n"
     ]
    },
    {
     "name": "stdout",
     "output_type": "stream",
     "text": [
      "https://weather.uwyo.edu/cgi-bin/bufrraob.py?type=TEXT:LIST&id=91165&datetime=2023-09-13%2000:00:00\n"
     ]
    },
    {
     "name": "stderr",
     "output_type": "stream",
     "text": [
      "C:\\Users\\Angela\\Anaconda3\\lib\\site-packages\\urllib3\\connectionpool.py:847: InsecureRequestWarning: Unverified HTTPS request is being made. Adding certificate verification is strongly advised. See: https://urllib3.readthedocs.io/en/latest/advanced-usage.html#ssl-warnings\n",
      "  InsecureRequestWarning)\n"
     ]
    },
    {
     "name": "stdout",
     "output_type": "stream",
     "text": [
      "https://weather.uwyo.edu/cgi-bin/bufrraob.py?type=TEXT:LIST&id=91165&datetime=2023-09-13%2012:00:00\n"
     ]
    },
    {
     "name": "stderr",
     "output_type": "stream",
     "text": [
      "C:\\Users\\Angela\\Anaconda3\\lib\\site-packages\\urllib3\\connectionpool.py:847: InsecureRequestWarning: Unverified HTTPS request is being made. Adding certificate verification is strongly advised. See: https://urllib3.readthedocs.io/en/latest/advanced-usage.html#ssl-warnings\n",
      "  InsecureRequestWarning)\n"
     ]
    },
    {
     "name": "stdout",
     "output_type": "stream",
     "text": [
      "https://weather.uwyo.edu/cgi-bin/bufrraob.py?type=TEXT:LIST&id=91165&datetime=2023-09-14%2000:00:00\n"
     ]
    },
    {
     "name": "stderr",
     "output_type": "stream",
     "text": [
      "C:\\Users\\Angela\\Anaconda3\\lib\\site-packages\\urllib3\\connectionpool.py:847: InsecureRequestWarning: Unverified HTTPS request is being made. Adding certificate verification is strongly advised. See: https://urllib3.readthedocs.io/en/latest/advanced-usage.html#ssl-warnings\n",
      "  InsecureRequestWarning)\n"
     ]
    },
    {
     "name": "stdout",
     "output_type": "stream",
     "text": [
      "https://weather.uwyo.edu/cgi-bin/bufrraob.py?type=TEXT:LIST&id=91165&datetime=2023-09-14%2012:00:00\n"
     ]
    },
    {
     "name": "stderr",
     "output_type": "stream",
     "text": [
      "C:\\Users\\Angela\\Anaconda3\\lib\\site-packages\\urllib3\\connectionpool.py:847: InsecureRequestWarning: Unverified HTTPS request is being made. Adding certificate verification is strongly advised. See: https://urllib3.readthedocs.io/en/latest/advanced-usage.html#ssl-warnings\n",
      "  InsecureRequestWarning)\n"
     ]
    },
    {
     "name": "stdout",
     "output_type": "stream",
     "text": [
      "https://weather.uwyo.edu/cgi-bin/bufrraob.py?type=TEXT:LIST&id=91165&datetime=2023-09-15%2000:00:00\n"
     ]
    },
    {
     "name": "stderr",
     "output_type": "stream",
     "text": [
      "C:\\Users\\Angela\\Anaconda3\\lib\\site-packages\\urllib3\\connectionpool.py:847: InsecureRequestWarning: Unverified HTTPS request is being made. Adding certificate verification is strongly advised. See: https://urllib3.readthedocs.io/en/latest/advanced-usage.html#ssl-warnings\n",
      "  InsecureRequestWarning)\n"
     ]
    },
    {
     "name": "stdout",
     "output_type": "stream",
     "text": [
      "https://weather.uwyo.edu/cgi-bin/bufrraob.py?type=TEXT:LIST&id=91165&datetime=2023-09-15%2012:00:00\n"
     ]
    },
    {
     "name": "stderr",
     "output_type": "stream",
     "text": [
      "C:\\Users\\Angela\\Anaconda3\\lib\\site-packages\\urllib3\\connectionpool.py:847: InsecureRequestWarning: Unverified HTTPS request is being made. Adding certificate verification is strongly advised. See: https://urllib3.readthedocs.io/en/latest/advanced-usage.html#ssl-warnings\n",
      "  InsecureRequestWarning)\n"
     ]
    },
    {
     "name": "stdout",
     "output_type": "stream",
     "text": [
      "https://weather.uwyo.edu/cgi-bin/bufrraob.py?type=TEXT:LIST&id=91165&datetime=2023-09-16%2000:00:00\n"
     ]
    },
    {
     "name": "stderr",
     "output_type": "stream",
     "text": [
      "C:\\Users\\Angela\\Anaconda3\\lib\\site-packages\\urllib3\\connectionpool.py:847: InsecureRequestWarning: Unverified HTTPS request is being made. Adding certificate verification is strongly advised. See: https://urllib3.readthedocs.io/en/latest/advanced-usage.html#ssl-warnings\n",
      "  InsecureRequestWarning)\n"
     ]
    },
    {
     "name": "stdout",
     "output_type": "stream",
     "text": [
      "https://weather.uwyo.edu/cgi-bin/bufrraob.py?type=TEXT:LIST&id=91165&datetime=2023-09-16%2012:00:00\n"
     ]
    },
    {
     "name": "stderr",
     "output_type": "stream",
     "text": [
      "C:\\Users\\Angela\\Anaconda3\\lib\\site-packages\\urllib3\\connectionpool.py:847: InsecureRequestWarning: Unverified HTTPS request is being made. Adding certificate verification is strongly advised. See: https://urllib3.readthedocs.io/en/latest/advanced-usage.html#ssl-warnings\n",
      "  InsecureRequestWarning)\n"
     ]
    },
    {
     "name": "stdout",
     "output_type": "stream",
     "text": [
      "https://weather.uwyo.edu/cgi-bin/bufrraob.py?type=TEXT:LIST&id=91165&datetime=2023-09-17%2000:00:00\n"
     ]
    },
    {
     "name": "stderr",
     "output_type": "stream",
     "text": [
      "C:\\Users\\Angela\\Anaconda3\\lib\\site-packages\\urllib3\\connectionpool.py:847: InsecureRequestWarning: Unverified HTTPS request is being made. Adding certificate verification is strongly advised. See: https://urllib3.readthedocs.io/en/latest/advanced-usage.html#ssl-warnings\n",
      "  InsecureRequestWarning)\n"
     ]
    },
    {
     "name": "stdout",
     "output_type": "stream",
     "text": [
      "https://weather.uwyo.edu/cgi-bin/bufrraob.py?type=TEXT:LIST&id=91165&datetime=2023-09-17%2012:00:00\n"
     ]
    },
    {
     "name": "stderr",
     "output_type": "stream",
     "text": [
      "C:\\Users\\Angela\\Anaconda3\\lib\\site-packages\\urllib3\\connectionpool.py:847: InsecureRequestWarning: Unverified HTTPS request is being made. Adding certificate verification is strongly advised. See: https://urllib3.readthedocs.io/en/latest/advanced-usage.html#ssl-warnings\n",
      "  InsecureRequestWarning)\n"
     ]
    },
    {
     "name": "stdout",
     "output_type": "stream",
     "text": [
      "https://weather.uwyo.edu/cgi-bin/bufrraob.py?type=TEXT:LIST&id=91165&datetime=2023-09-18%2000:00:00\n"
     ]
    },
    {
     "name": "stderr",
     "output_type": "stream",
     "text": [
      "C:\\Users\\Angela\\Anaconda3\\lib\\site-packages\\urllib3\\connectionpool.py:847: InsecureRequestWarning: Unverified HTTPS request is being made. Adding certificate verification is strongly advised. See: https://urllib3.readthedocs.io/en/latest/advanced-usage.html#ssl-warnings\n",
      "  InsecureRequestWarning)\n"
     ]
    },
    {
     "name": "stdout",
     "output_type": "stream",
     "text": [
      "https://weather.uwyo.edu/cgi-bin/bufrraob.py?type=TEXT:LIST&id=91165&datetime=2023-09-18%2012:00:00\n"
     ]
    },
    {
     "name": "stderr",
     "output_type": "stream",
     "text": [
      "C:\\Users\\Angela\\Anaconda3\\lib\\site-packages\\urllib3\\connectionpool.py:847: InsecureRequestWarning: Unverified HTTPS request is being made. Adding certificate verification is strongly advised. See: https://urllib3.readthedocs.io/en/latest/advanced-usage.html#ssl-warnings\n",
      "  InsecureRequestWarning)\n"
     ]
    },
    {
     "name": "stdout",
     "output_type": "stream",
     "text": [
      "https://weather.uwyo.edu/cgi-bin/bufrraob.py?type=TEXT:LIST&id=91165&datetime=2023-09-19%2000:00:00\n"
     ]
    },
    {
     "name": "stderr",
     "output_type": "stream",
     "text": [
      "C:\\Users\\Angela\\Anaconda3\\lib\\site-packages\\urllib3\\connectionpool.py:847: InsecureRequestWarning: Unverified HTTPS request is being made. Adding certificate verification is strongly advised. See: https://urllib3.readthedocs.io/en/latest/advanced-usage.html#ssl-warnings\n",
      "  InsecureRequestWarning)\n"
     ]
    },
    {
     "name": "stdout",
     "output_type": "stream",
     "text": [
      "https://weather.uwyo.edu/cgi-bin/bufrraob.py?type=TEXT:LIST&id=91165&datetime=2023-09-19%2012:00:00\n"
     ]
    },
    {
     "name": "stderr",
     "output_type": "stream",
     "text": [
      "C:\\Users\\Angela\\Anaconda3\\lib\\site-packages\\urllib3\\connectionpool.py:847: InsecureRequestWarning: Unverified HTTPS request is being made. Adding certificate verification is strongly advised. See: https://urllib3.readthedocs.io/en/latest/advanced-usage.html#ssl-warnings\n",
      "  InsecureRequestWarning)\n"
     ]
    },
    {
     "name": "stdout",
     "output_type": "stream",
     "text": [
      "https://weather.uwyo.edu/cgi-bin/bufrraob.py?type=TEXT:LIST&id=91165&datetime=2023-09-20%2000:00:00\n"
     ]
    },
    {
     "name": "stderr",
     "output_type": "stream",
     "text": [
      "C:\\Users\\Angela\\Anaconda3\\lib\\site-packages\\urllib3\\connectionpool.py:847: InsecureRequestWarning: Unverified HTTPS request is being made. Adding certificate verification is strongly advised. See: https://urllib3.readthedocs.io/en/latest/advanced-usage.html#ssl-warnings\n",
      "  InsecureRequestWarning)\n"
     ]
    },
    {
     "name": "stdout",
     "output_type": "stream",
     "text": [
      "https://weather.uwyo.edu/cgi-bin/bufrraob.py?type=TEXT:LIST&id=91165&datetime=2023-09-20%2012:00:00\n"
     ]
    },
    {
     "name": "stderr",
     "output_type": "stream",
     "text": [
      "C:\\Users\\Angela\\Anaconda3\\lib\\site-packages\\urllib3\\connectionpool.py:847: InsecureRequestWarning: Unverified HTTPS request is being made. Adding certificate verification is strongly advised. See: https://urllib3.readthedocs.io/en/latest/advanced-usage.html#ssl-warnings\n",
      "  InsecureRequestWarning)\n"
     ]
    },
    {
     "name": "stdout",
     "output_type": "stream",
     "text": [
      "https://weather.uwyo.edu/cgi-bin/bufrraob.py?type=TEXT:LIST&id=91165&datetime=2023-09-21%2000:00:00\n"
     ]
    },
    {
     "name": "stderr",
     "output_type": "stream",
     "text": [
      "C:\\Users\\Angela\\Anaconda3\\lib\\site-packages\\urllib3\\connectionpool.py:847: InsecureRequestWarning: Unverified HTTPS request is being made. Adding certificate verification is strongly advised. See: https://urllib3.readthedocs.io/en/latest/advanced-usage.html#ssl-warnings\n",
      "  InsecureRequestWarning)\n"
     ]
    },
    {
     "name": "stdout",
     "output_type": "stream",
     "text": [
      "https://weather.uwyo.edu/cgi-bin/bufrraob.py?type=TEXT:LIST&id=91165&datetime=2023-09-21%2012:00:00\n"
     ]
    },
    {
     "name": "stderr",
     "output_type": "stream",
     "text": [
      "C:\\Users\\Angela\\Anaconda3\\lib\\site-packages\\urllib3\\connectionpool.py:847: InsecureRequestWarning: Unverified HTTPS request is being made. Adding certificate verification is strongly advised. See: https://urllib3.readthedocs.io/en/latest/advanced-usage.html#ssl-warnings\n",
      "  InsecureRequestWarning)\n"
     ]
    },
    {
     "name": "stdout",
     "output_type": "stream",
     "text": [
      "https://weather.uwyo.edu/cgi-bin/bufrraob.py?type=TEXT:LIST&id=91165&datetime=2023-09-22%2000:00:00\n"
     ]
    },
    {
     "name": "stderr",
     "output_type": "stream",
     "text": [
      "C:\\Users\\Angela\\Anaconda3\\lib\\site-packages\\urllib3\\connectionpool.py:847: InsecureRequestWarning: Unverified HTTPS request is being made. Adding certificate verification is strongly advised. See: https://urllib3.readthedocs.io/en/latest/advanced-usage.html#ssl-warnings\n",
      "  InsecureRequestWarning)\n"
     ]
    },
    {
     "name": "stdout",
     "output_type": "stream",
     "text": [
      "https://weather.uwyo.edu/cgi-bin/bufrraob.py?type=TEXT:LIST&id=91165&datetime=2023-09-22%2012:00:00\n"
     ]
    },
    {
     "name": "stderr",
     "output_type": "stream",
     "text": [
      "C:\\Users\\Angela\\Anaconda3\\lib\\site-packages\\urllib3\\connectionpool.py:847: InsecureRequestWarning: Unverified HTTPS request is being made. Adding certificate verification is strongly advised. See: https://urllib3.readthedocs.io/en/latest/advanced-usage.html#ssl-warnings\n",
      "  InsecureRequestWarning)\n"
     ]
    },
    {
     "name": "stdout",
     "output_type": "stream",
     "text": [
      "https://weather.uwyo.edu/cgi-bin/bufrraob.py?type=TEXT:LIST&id=91165&datetime=2023-09-23%2000:00:00\n"
     ]
    },
    {
     "name": "stderr",
     "output_type": "stream",
     "text": [
      "C:\\Users\\Angela\\Anaconda3\\lib\\site-packages\\urllib3\\connectionpool.py:847: InsecureRequestWarning: Unverified HTTPS request is being made. Adding certificate verification is strongly advised. See: https://urllib3.readthedocs.io/en/latest/advanced-usage.html#ssl-warnings\n",
      "  InsecureRequestWarning)\n"
     ]
    },
    {
     "name": "stdout",
     "output_type": "stream",
     "text": [
      "https://weather.uwyo.edu/cgi-bin/bufrraob.py?type=TEXT:LIST&id=91165&datetime=2023-09-23%2012:00:00\n"
     ]
    },
    {
     "name": "stderr",
     "output_type": "stream",
     "text": [
      "C:\\Users\\Angela\\Anaconda3\\lib\\site-packages\\urllib3\\connectionpool.py:847: InsecureRequestWarning: Unverified HTTPS request is being made. Adding certificate verification is strongly advised. See: https://urllib3.readthedocs.io/en/latest/advanced-usage.html#ssl-warnings\n",
      "  InsecureRequestWarning)\n"
     ]
    },
    {
     "name": "stdout",
     "output_type": "stream",
     "text": [
      "https://weather.uwyo.edu/cgi-bin/bufrraob.py?type=TEXT:LIST&id=91165&datetime=2023-09-24%2000:00:00\n"
     ]
    },
    {
     "name": "stderr",
     "output_type": "stream",
     "text": [
      "C:\\Users\\Angela\\Anaconda3\\lib\\site-packages\\urllib3\\connectionpool.py:847: InsecureRequestWarning: Unverified HTTPS request is being made. Adding certificate verification is strongly advised. See: https://urllib3.readthedocs.io/en/latest/advanced-usage.html#ssl-warnings\n",
      "  InsecureRequestWarning)\n"
     ]
    },
    {
     "name": "stdout",
     "output_type": "stream",
     "text": [
      "https://weather.uwyo.edu/cgi-bin/bufrraob.py?type=TEXT:LIST&id=91165&datetime=2023-09-24%2012:00:00\n"
     ]
    },
    {
     "name": "stderr",
     "output_type": "stream",
     "text": [
      "C:\\Users\\Angela\\Anaconda3\\lib\\site-packages\\urllib3\\connectionpool.py:847: InsecureRequestWarning: Unverified HTTPS request is being made. Adding certificate verification is strongly advised. See: https://urllib3.readthedocs.io/en/latest/advanced-usage.html#ssl-warnings\n",
      "  InsecureRequestWarning)\n"
     ]
    },
    {
     "name": "stdout",
     "output_type": "stream",
     "text": [
      "https://weather.uwyo.edu/cgi-bin/bufrraob.py?type=TEXT:LIST&id=91165&datetime=2023-09-25%2000:00:00\n"
     ]
    },
    {
     "name": "stderr",
     "output_type": "stream",
     "text": [
      "C:\\Users\\Angela\\Anaconda3\\lib\\site-packages\\urllib3\\connectionpool.py:847: InsecureRequestWarning: Unverified HTTPS request is being made. Adding certificate verification is strongly advised. See: https://urllib3.readthedocs.io/en/latest/advanced-usage.html#ssl-warnings\n",
      "  InsecureRequestWarning)\n"
     ]
    },
    {
     "name": "stdout",
     "output_type": "stream",
     "text": [
      "https://weather.uwyo.edu/cgi-bin/bufrraob.py?type=TEXT:LIST&id=91165&datetime=2023-09-25%2012:00:00\n"
     ]
    },
    {
     "name": "stderr",
     "output_type": "stream",
     "text": [
      "C:\\Users\\Angela\\Anaconda3\\lib\\site-packages\\urllib3\\connectionpool.py:847: InsecureRequestWarning: Unverified HTTPS request is being made. Adding certificate verification is strongly advised. See: https://urllib3.readthedocs.io/en/latest/advanced-usage.html#ssl-warnings\n",
      "  InsecureRequestWarning)\n"
     ]
    },
    {
     "name": "stdout",
     "output_type": "stream",
     "text": [
      "https://weather.uwyo.edu/cgi-bin/bufrraob.py?type=TEXT:LIST&id=91165&datetime=2023-09-26%2000:00:00\n"
     ]
    },
    {
     "name": "stderr",
     "output_type": "stream",
     "text": [
      "C:\\Users\\Angela\\Anaconda3\\lib\\site-packages\\urllib3\\connectionpool.py:847: InsecureRequestWarning: Unverified HTTPS request is being made. Adding certificate verification is strongly advised. See: https://urllib3.readthedocs.io/en/latest/advanced-usage.html#ssl-warnings\n",
      "  InsecureRequestWarning)\n"
     ]
    },
    {
     "name": "stdout",
     "output_type": "stream",
     "text": [
      "https://weather.uwyo.edu/cgi-bin/bufrraob.py?type=TEXT:LIST&id=91165&datetime=2023-09-26%2012:00:00\n"
     ]
    },
    {
     "name": "stderr",
     "output_type": "stream",
     "text": [
      "C:\\Users\\Angela\\Anaconda3\\lib\\site-packages\\urllib3\\connectionpool.py:847: InsecureRequestWarning: Unverified HTTPS request is being made. Adding certificate verification is strongly advised. See: https://urllib3.readthedocs.io/en/latest/advanced-usage.html#ssl-warnings\n",
      "  InsecureRequestWarning)\n"
     ]
    },
    {
     "name": "stdout",
     "output_type": "stream",
     "text": [
      "https://weather.uwyo.edu/cgi-bin/bufrraob.py?type=TEXT:LIST&id=91165&datetime=2023-09-27%2000:00:00\n"
     ]
    },
    {
     "name": "stderr",
     "output_type": "stream",
     "text": [
      "C:\\Users\\Angela\\Anaconda3\\lib\\site-packages\\urllib3\\connectionpool.py:847: InsecureRequestWarning: Unverified HTTPS request is being made. Adding certificate verification is strongly advised. See: https://urllib3.readthedocs.io/en/latest/advanced-usage.html#ssl-warnings\n",
      "  InsecureRequestWarning)\n"
     ]
    },
    {
     "name": "stdout",
     "output_type": "stream",
     "text": [
      "https://weather.uwyo.edu/cgi-bin/bufrraob.py?type=TEXT:LIST&id=91165&datetime=2023-09-27%2012:00:00\n"
     ]
    },
    {
     "name": "stderr",
     "output_type": "stream",
     "text": [
      "C:\\Users\\Angela\\Anaconda3\\lib\\site-packages\\urllib3\\connectionpool.py:847: InsecureRequestWarning: Unverified HTTPS request is being made. Adding certificate verification is strongly advised. See: https://urllib3.readthedocs.io/en/latest/advanced-usage.html#ssl-warnings\n",
      "  InsecureRequestWarning)\n"
     ]
    },
    {
     "name": "stdout",
     "output_type": "stream",
     "text": [
      "https://weather.uwyo.edu/cgi-bin/bufrraob.py?type=TEXT:LIST&id=91165&datetime=2023-09-28%2000:00:00\n"
     ]
    },
    {
     "name": "stderr",
     "output_type": "stream",
     "text": [
      "C:\\Users\\Angela\\Anaconda3\\lib\\site-packages\\urllib3\\connectionpool.py:847: InsecureRequestWarning: Unverified HTTPS request is being made. Adding certificate verification is strongly advised. See: https://urllib3.readthedocs.io/en/latest/advanced-usage.html#ssl-warnings\n",
      "  InsecureRequestWarning)\n"
     ]
    },
    {
     "name": "stdout",
     "output_type": "stream",
     "text": [
      "https://weather.uwyo.edu/cgi-bin/bufrraob.py?type=TEXT:LIST&id=91165&datetime=2023-09-28%2012:00:00\n"
     ]
    },
    {
     "name": "stderr",
     "output_type": "stream",
     "text": [
      "C:\\Users\\Angela\\Anaconda3\\lib\\site-packages\\urllib3\\connectionpool.py:847: InsecureRequestWarning: Unverified HTTPS request is being made. Adding certificate verification is strongly advised. See: https://urllib3.readthedocs.io/en/latest/advanced-usage.html#ssl-warnings\n",
      "  InsecureRequestWarning)\n"
     ]
    },
    {
     "name": "stdout",
     "output_type": "stream",
     "text": [
      "https://weather.uwyo.edu/cgi-bin/bufrraob.py?type=TEXT:LIST&id=91165&datetime=2023-09-29%2000:00:00\n"
     ]
    },
    {
     "name": "stderr",
     "output_type": "stream",
     "text": [
      "C:\\Users\\Angela\\Anaconda3\\lib\\site-packages\\urllib3\\connectionpool.py:847: InsecureRequestWarning: Unverified HTTPS request is being made. Adding certificate verification is strongly advised. See: https://urllib3.readthedocs.io/en/latest/advanced-usage.html#ssl-warnings\n",
      "  InsecureRequestWarning)\n"
     ]
    },
    {
     "name": "stdout",
     "output_type": "stream",
     "text": [
      "https://weather.uwyo.edu/cgi-bin/bufrraob.py?type=TEXT:LIST&id=91165&datetime=2023-09-29%2012:00:00\n"
     ]
    },
    {
     "name": "stderr",
     "output_type": "stream",
     "text": [
      "C:\\Users\\Angela\\Anaconda3\\lib\\site-packages\\urllib3\\connectionpool.py:847: InsecureRequestWarning: Unverified HTTPS request is being made. Adding certificate verification is strongly advised. See: https://urllib3.readthedocs.io/en/latest/advanced-usage.html#ssl-warnings\n",
      "  InsecureRequestWarning)\n"
     ]
    },
    {
     "name": "stdout",
     "output_type": "stream",
     "text": [
      "https://weather.uwyo.edu/cgi-bin/bufrraob.py?type=TEXT:LIST&id=91165&datetime=2023-09-30%2000:00:00\n"
     ]
    },
    {
     "name": "stderr",
     "output_type": "stream",
     "text": [
      "C:\\Users\\Angela\\Anaconda3\\lib\\site-packages\\urllib3\\connectionpool.py:847: InsecureRequestWarning: Unverified HTTPS request is being made. Adding certificate verification is strongly advised. See: https://urllib3.readthedocs.io/en/latest/advanced-usage.html#ssl-warnings\n",
      "  InsecureRequestWarning)\n"
     ]
    },
    {
     "name": "stdout",
     "output_type": "stream",
     "text": [
      "https://weather.uwyo.edu/cgi-bin/bufrraob.py?type=TEXT:LIST&id=91165&datetime=2023-09-30%2012:00:00\n"
     ]
    },
    {
     "name": "stderr",
     "output_type": "stream",
     "text": [
      "C:\\Users\\Angela\\Anaconda3\\lib\\site-packages\\urllib3\\connectionpool.py:847: InsecureRequestWarning: Unverified HTTPS request is being made. Adding certificate verification is strongly advised. See: https://urllib3.readthedocs.io/en/latest/advanced-usage.html#ssl-warnings\n",
      "  InsecureRequestWarning)\n"
     ]
    },
    {
     "name": "stdout",
     "output_type": "stream",
     "text": [
      "Moving to October\n",
      "https://weather.uwyo.edu/cgi-bin/bufrraob.py?type=TEXT:LIST&id=91165&datetime=2023-10-01%2000:00:00\n"
     ]
    },
    {
     "name": "stderr",
     "output_type": "stream",
     "text": [
      "C:\\Users\\Angela\\Anaconda3\\lib\\site-packages\\urllib3\\connectionpool.py:847: InsecureRequestWarning: Unverified HTTPS request is being made. Adding certificate verification is strongly advised. See: https://urllib3.readthedocs.io/en/latest/advanced-usage.html#ssl-warnings\n",
      "  InsecureRequestWarning)\n"
     ]
    },
    {
     "name": "stdout",
     "output_type": "stream",
     "text": [
      "https://weather.uwyo.edu/cgi-bin/bufrraob.py?type=TEXT:LIST&id=91165&datetime=2023-10-01%2012:00:00\n"
     ]
    },
    {
     "name": "stderr",
     "output_type": "stream",
     "text": [
      "C:\\Users\\Angela\\Anaconda3\\lib\\site-packages\\urllib3\\connectionpool.py:847: InsecureRequestWarning: Unverified HTTPS request is being made. Adding certificate verification is strongly advised. See: https://urllib3.readthedocs.io/en/latest/advanced-usage.html#ssl-warnings\n",
      "  InsecureRequestWarning)\n"
     ]
    },
    {
     "name": "stdout",
     "output_type": "stream",
     "text": [
      "https://weather.uwyo.edu/cgi-bin/bufrraob.py?type=TEXT:LIST&id=91165&datetime=2023-10-02%2000:00:00\n"
     ]
    },
    {
     "name": "stderr",
     "output_type": "stream",
     "text": [
      "C:\\Users\\Angela\\Anaconda3\\lib\\site-packages\\urllib3\\connectionpool.py:847: InsecureRequestWarning: Unverified HTTPS request is being made. Adding certificate verification is strongly advised. See: https://urllib3.readthedocs.io/en/latest/advanced-usage.html#ssl-warnings\n",
      "  InsecureRequestWarning)\n"
     ]
    },
    {
     "name": "stdout",
     "output_type": "stream",
     "text": [
      "https://weather.uwyo.edu/cgi-bin/bufrraob.py?type=TEXT:LIST&id=91165&datetime=2023-10-02%2012:00:00\n"
     ]
    },
    {
     "name": "stderr",
     "output_type": "stream",
     "text": [
      "C:\\Users\\Angela\\Anaconda3\\lib\\site-packages\\urllib3\\connectionpool.py:847: InsecureRequestWarning: Unverified HTTPS request is being made. Adding certificate verification is strongly advised. See: https://urllib3.readthedocs.io/en/latest/advanced-usage.html#ssl-warnings\n",
      "  InsecureRequestWarning)\n"
     ]
    },
    {
     "name": "stdout",
     "output_type": "stream",
     "text": [
      "https://weather.uwyo.edu/cgi-bin/bufrraob.py?type=TEXT:LIST&id=91165&datetime=2023-10-03%2000:00:00\n"
     ]
    },
    {
     "name": "stderr",
     "output_type": "stream",
     "text": [
      "C:\\Users\\Angela\\Anaconda3\\lib\\site-packages\\urllib3\\connectionpool.py:847: InsecureRequestWarning: Unverified HTTPS request is being made. Adding certificate verification is strongly advised. See: https://urllib3.readthedocs.io/en/latest/advanced-usage.html#ssl-warnings\n",
      "  InsecureRequestWarning)\n"
     ]
    },
    {
     "name": "stdout",
     "output_type": "stream",
     "text": [
      "https://weather.uwyo.edu/cgi-bin/bufrraob.py?type=TEXT:LIST&id=91165&datetime=2023-10-03%2012:00:00\n"
     ]
    },
    {
     "name": "stderr",
     "output_type": "stream",
     "text": [
      "C:\\Users\\Angela\\Anaconda3\\lib\\site-packages\\urllib3\\connectionpool.py:847: InsecureRequestWarning: Unverified HTTPS request is being made. Adding certificate verification is strongly advised. See: https://urllib3.readthedocs.io/en/latest/advanced-usage.html#ssl-warnings\n",
      "  InsecureRequestWarning)\n"
     ]
    },
    {
     "name": "stdout",
     "output_type": "stream",
     "text": [
      "https://weather.uwyo.edu/cgi-bin/bufrraob.py?type=TEXT:LIST&id=91165&datetime=2023-10-04%2000:00:00\n"
     ]
    },
    {
     "name": "stderr",
     "output_type": "stream",
     "text": [
      "C:\\Users\\Angela\\Anaconda3\\lib\\site-packages\\urllib3\\connectionpool.py:847: InsecureRequestWarning: Unverified HTTPS request is being made. Adding certificate verification is strongly advised. See: https://urllib3.readthedocs.io/en/latest/advanced-usage.html#ssl-warnings\n",
      "  InsecureRequestWarning)\n"
     ]
    },
    {
     "name": "stdout",
     "output_type": "stream",
     "text": [
      "https://weather.uwyo.edu/cgi-bin/bufrraob.py?type=TEXT:LIST&id=91165&datetime=2023-10-04%2012:00:00\n"
     ]
    },
    {
     "name": "stderr",
     "output_type": "stream",
     "text": [
      "C:\\Users\\Angela\\Anaconda3\\lib\\site-packages\\urllib3\\connectionpool.py:847: InsecureRequestWarning: Unverified HTTPS request is being made. Adding certificate verification is strongly advised. See: https://urllib3.readthedocs.io/en/latest/advanced-usage.html#ssl-warnings\n",
      "  InsecureRequestWarning)\n"
     ]
    },
    {
     "name": "stdout",
     "output_type": "stream",
     "text": [
      "https://weather.uwyo.edu/cgi-bin/bufrraob.py?type=TEXT:LIST&id=91165&datetime=2023-10-05%2000:00:00\n"
     ]
    },
    {
     "name": "stderr",
     "output_type": "stream",
     "text": [
      "C:\\Users\\Angela\\Anaconda3\\lib\\site-packages\\urllib3\\connectionpool.py:847: InsecureRequestWarning: Unverified HTTPS request is being made. Adding certificate verification is strongly advised. See: https://urllib3.readthedocs.io/en/latest/advanced-usage.html#ssl-warnings\n",
      "  InsecureRequestWarning)\n"
     ]
    },
    {
     "name": "stdout",
     "output_type": "stream",
     "text": [
      "https://weather.uwyo.edu/cgi-bin/bufrraob.py?type=TEXT:LIST&id=91165&datetime=2023-10-05%2012:00:00\n"
     ]
    },
    {
     "name": "stderr",
     "output_type": "stream",
     "text": [
      "C:\\Users\\Angela\\Anaconda3\\lib\\site-packages\\urllib3\\connectionpool.py:847: InsecureRequestWarning: Unverified HTTPS request is being made. Adding certificate verification is strongly advised. See: https://urllib3.readthedocs.io/en/latest/advanced-usage.html#ssl-warnings\n",
      "  InsecureRequestWarning)\n"
     ]
    },
    {
     "name": "stdout",
     "output_type": "stream",
     "text": [
      "https://weather.uwyo.edu/cgi-bin/bufrraob.py?type=TEXT:LIST&id=91165&datetime=2023-10-06%2000:00:00\n"
     ]
    },
    {
     "name": "stderr",
     "output_type": "stream",
     "text": [
      "C:\\Users\\Angela\\Anaconda3\\lib\\site-packages\\urllib3\\connectionpool.py:847: InsecureRequestWarning: Unverified HTTPS request is being made. Adding certificate verification is strongly advised. See: https://urllib3.readthedocs.io/en/latest/advanced-usage.html#ssl-warnings\n",
      "  InsecureRequestWarning)\n"
     ]
    },
    {
     "name": "stdout",
     "output_type": "stream",
     "text": [
      "https://weather.uwyo.edu/cgi-bin/bufrraob.py?type=TEXT:LIST&id=91165&datetime=2023-10-06%2012:00:00\n"
     ]
    },
    {
     "name": "stderr",
     "output_type": "stream",
     "text": [
      "C:\\Users\\Angela\\Anaconda3\\lib\\site-packages\\urllib3\\connectionpool.py:847: InsecureRequestWarning: Unverified HTTPS request is being made. Adding certificate verification is strongly advised. See: https://urllib3.readthedocs.io/en/latest/advanced-usage.html#ssl-warnings\n",
      "  InsecureRequestWarning)\n"
     ]
    },
    {
     "name": "stdout",
     "output_type": "stream",
     "text": [
      "https://weather.uwyo.edu/cgi-bin/bufrraob.py?type=TEXT:LIST&id=91165&datetime=2023-10-07%2000:00:00\n"
     ]
    },
    {
     "name": "stderr",
     "output_type": "stream",
     "text": [
      "C:\\Users\\Angela\\Anaconda3\\lib\\site-packages\\urllib3\\connectionpool.py:847: InsecureRequestWarning: Unverified HTTPS request is being made. Adding certificate verification is strongly advised. See: https://urllib3.readthedocs.io/en/latest/advanced-usage.html#ssl-warnings\n",
      "  InsecureRequestWarning)\n"
     ]
    },
    {
     "name": "stdout",
     "output_type": "stream",
     "text": [
      "https://weather.uwyo.edu/cgi-bin/bufrraob.py?type=TEXT:LIST&id=91165&datetime=2023-10-07%2012:00:00\n"
     ]
    },
    {
     "name": "stderr",
     "output_type": "stream",
     "text": [
      "C:\\Users\\Angela\\Anaconda3\\lib\\site-packages\\urllib3\\connectionpool.py:847: InsecureRequestWarning: Unverified HTTPS request is being made. Adding certificate verification is strongly advised. See: https://urllib3.readthedocs.io/en/latest/advanced-usage.html#ssl-warnings\n",
      "  InsecureRequestWarning)\n"
     ]
    },
    {
     "name": "stdout",
     "output_type": "stream",
     "text": [
      "https://weather.uwyo.edu/cgi-bin/bufrraob.py?type=TEXT:LIST&id=91165&datetime=2023-10-08%2000:00:00\n"
     ]
    },
    {
     "name": "stderr",
     "output_type": "stream",
     "text": [
      "C:\\Users\\Angela\\Anaconda3\\lib\\site-packages\\urllib3\\connectionpool.py:847: InsecureRequestWarning: Unverified HTTPS request is being made. Adding certificate verification is strongly advised. See: https://urllib3.readthedocs.io/en/latest/advanced-usage.html#ssl-warnings\n",
      "  InsecureRequestWarning)\n"
     ]
    },
    {
     "name": "stdout",
     "output_type": "stream",
     "text": [
      "https://weather.uwyo.edu/cgi-bin/bufrraob.py?type=TEXT:LIST&id=91165&datetime=2023-10-08%2012:00:00\n"
     ]
    },
    {
     "name": "stderr",
     "output_type": "stream",
     "text": [
      "C:\\Users\\Angela\\Anaconda3\\lib\\site-packages\\urllib3\\connectionpool.py:847: InsecureRequestWarning: Unverified HTTPS request is being made. Adding certificate verification is strongly advised. See: https://urllib3.readthedocs.io/en/latest/advanced-usage.html#ssl-warnings\n",
      "  InsecureRequestWarning)\n"
     ]
    },
    {
     "name": "stdout",
     "output_type": "stream",
     "text": [
      "https://weather.uwyo.edu/cgi-bin/bufrraob.py?type=TEXT:LIST&id=91165&datetime=2023-10-09%2000:00:00\n"
     ]
    },
    {
     "name": "stderr",
     "output_type": "stream",
     "text": [
      "C:\\Users\\Angela\\Anaconda3\\lib\\site-packages\\urllib3\\connectionpool.py:847: InsecureRequestWarning: Unverified HTTPS request is being made. Adding certificate verification is strongly advised. See: https://urllib3.readthedocs.io/en/latest/advanced-usage.html#ssl-warnings\n",
      "  InsecureRequestWarning)\n"
     ]
    },
    {
     "name": "stdout",
     "output_type": "stream",
     "text": [
      "https://weather.uwyo.edu/cgi-bin/bufrraob.py?type=TEXT:LIST&id=91165&datetime=2023-10-09%2012:00:00\n"
     ]
    },
    {
     "name": "stderr",
     "output_type": "stream",
     "text": [
      "C:\\Users\\Angela\\Anaconda3\\lib\\site-packages\\urllib3\\connectionpool.py:847: InsecureRequestWarning: Unverified HTTPS request is being made. Adding certificate verification is strongly advised. See: https://urllib3.readthedocs.io/en/latest/advanced-usage.html#ssl-warnings\n",
      "  InsecureRequestWarning)\n"
     ]
    },
    {
     "name": "stdout",
     "output_type": "stream",
     "text": [
      "https://weather.uwyo.edu/cgi-bin/bufrraob.py?type=TEXT:LIST&id=91165&datetime=2023-10-10%2000:00:00\n"
     ]
    },
    {
     "name": "stderr",
     "output_type": "stream",
     "text": [
      "C:\\Users\\Angela\\Anaconda3\\lib\\site-packages\\urllib3\\connectionpool.py:847: InsecureRequestWarning: Unverified HTTPS request is being made. Adding certificate verification is strongly advised. See: https://urllib3.readthedocs.io/en/latest/advanced-usage.html#ssl-warnings\n",
      "  InsecureRequestWarning)\n"
     ]
    },
    {
     "name": "stdout",
     "output_type": "stream",
     "text": [
      "https://weather.uwyo.edu/cgi-bin/bufrraob.py?type=TEXT:LIST&id=91165&datetime=2023-10-10%2012:00:00\n"
     ]
    },
    {
     "name": "stderr",
     "output_type": "stream",
     "text": [
      "C:\\Users\\Angela\\Anaconda3\\lib\\site-packages\\urllib3\\connectionpool.py:847: InsecureRequestWarning: Unverified HTTPS request is being made. Adding certificate verification is strongly advised. See: https://urllib3.readthedocs.io/en/latest/advanced-usage.html#ssl-warnings\n",
      "  InsecureRequestWarning)\n"
     ]
    },
    {
     "name": "stdout",
     "output_type": "stream",
     "text": [
      "https://weather.uwyo.edu/cgi-bin/bufrraob.py?type=TEXT:LIST&id=91165&datetime=2023-10-11%2000:00:00\n"
     ]
    },
    {
     "name": "stderr",
     "output_type": "stream",
     "text": [
      "C:\\Users\\Angela\\Anaconda3\\lib\\site-packages\\urllib3\\connectionpool.py:847: InsecureRequestWarning: Unverified HTTPS request is being made. Adding certificate verification is strongly advised. See: https://urllib3.readthedocs.io/en/latest/advanced-usage.html#ssl-warnings\n",
      "  InsecureRequestWarning)\n"
     ]
    },
    {
     "name": "stdout",
     "output_type": "stream",
     "text": [
      "https://weather.uwyo.edu/cgi-bin/bufrraob.py?type=TEXT:LIST&id=91165&datetime=2023-10-11%2012:00:00\n"
     ]
    },
    {
     "name": "stderr",
     "output_type": "stream",
     "text": [
      "C:\\Users\\Angela\\Anaconda3\\lib\\site-packages\\urllib3\\connectionpool.py:847: InsecureRequestWarning: Unverified HTTPS request is being made. Adding certificate verification is strongly advised. See: https://urllib3.readthedocs.io/en/latest/advanced-usage.html#ssl-warnings\n",
      "  InsecureRequestWarning)\n"
     ]
    },
    {
     "name": "stdout",
     "output_type": "stream",
     "text": [
      "https://weather.uwyo.edu/cgi-bin/bufrraob.py?type=TEXT:LIST&id=91165&datetime=2023-10-12%2000:00:00\n"
     ]
    },
    {
     "name": "stderr",
     "output_type": "stream",
     "text": [
      "C:\\Users\\Angela\\Anaconda3\\lib\\site-packages\\urllib3\\connectionpool.py:847: InsecureRequestWarning: Unverified HTTPS request is being made. Adding certificate verification is strongly advised. See: https://urllib3.readthedocs.io/en/latest/advanced-usage.html#ssl-warnings\n",
      "  InsecureRequestWarning)\n"
     ]
    },
    {
     "name": "stdout",
     "output_type": "stream",
     "text": [
      "https://weather.uwyo.edu/cgi-bin/bufrraob.py?type=TEXT:LIST&id=91165&datetime=2023-10-12%2012:00:00\n"
     ]
    },
    {
     "name": "stderr",
     "output_type": "stream",
     "text": [
      "C:\\Users\\Angela\\Anaconda3\\lib\\site-packages\\urllib3\\connectionpool.py:847: InsecureRequestWarning: Unverified HTTPS request is being made. Adding certificate verification is strongly advised. See: https://urllib3.readthedocs.io/en/latest/advanced-usage.html#ssl-warnings\n",
      "  InsecureRequestWarning)\n"
     ]
    },
    {
     "name": "stdout",
     "output_type": "stream",
     "text": [
      "https://weather.uwyo.edu/cgi-bin/bufrraob.py?type=TEXT:LIST&id=91165&datetime=2023-10-13%2000:00:00\n"
     ]
    },
    {
     "name": "stderr",
     "output_type": "stream",
     "text": [
      "C:\\Users\\Angela\\Anaconda3\\lib\\site-packages\\urllib3\\connectionpool.py:847: InsecureRequestWarning: Unverified HTTPS request is being made. Adding certificate verification is strongly advised. See: https://urllib3.readthedocs.io/en/latest/advanced-usage.html#ssl-warnings\n",
      "  InsecureRequestWarning)\n"
     ]
    },
    {
     "name": "stdout",
     "output_type": "stream",
     "text": [
      "https://weather.uwyo.edu/cgi-bin/bufrraob.py?type=TEXT:LIST&id=91165&datetime=2023-10-13%2012:00:00\n"
     ]
    },
    {
     "name": "stderr",
     "output_type": "stream",
     "text": [
      "C:\\Users\\Angela\\Anaconda3\\lib\\site-packages\\urllib3\\connectionpool.py:847: InsecureRequestWarning: Unverified HTTPS request is being made. Adding certificate verification is strongly advised. See: https://urllib3.readthedocs.io/en/latest/advanced-usage.html#ssl-warnings\n",
      "  InsecureRequestWarning)\n"
     ]
    },
    {
     "name": "stdout",
     "output_type": "stream",
     "text": [
      "https://weather.uwyo.edu/cgi-bin/bufrraob.py?type=TEXT:LIST&id=91165&datetime=2023-10-14%2000:00:00\n"
     ]
    },
    {
     "name": "stderr",
     "output_type": "stream",
     "text": [
      "C:\\Users\\Angela\\Anaconda3\\lib\\site-packages\\urllib3\\connectionpool.py:847: InsecureRequestWarning: Unverified HTTPS request is being made. Adding certificate verification is strongly advised. See: https://urllib3.readthedocs.io/en/latest/advanced-usage.html#ssl-warnings\n",
      "  InsecureRequestWarning)\n"
     ]
    },
    {
     "name": "stdout",
     "output_type": "stream",
     "text": [
      "https://weather.uwyo.edu/cgi-bin/bufrraob.py?type=TEXT:LIST&id=91165&datetime=2023-10-14%2012:00:00\n"
     ]
    },
    {
     "name": "stderr",
     "output_type": "stream",
     "text": [
      "C:\\Users\\Angela\\Anaconda3\\lib\\site-packages\\urllib3\\connectionpool.py:847: InsecureRequestWarning: Unverified HTTPS request is being made. Adding certificate verification is strongly advised. See: https://urllib3.readthedocs.io/en/latest/advanced-usage.html#ssl-warnings\n",
      "  InsecureRequestWarning)\n"
     ]
    },
    {
     "name": "stdout",
     "output_type": "stream",
     "text": [
      "https://weather.uwyo.edu/cgi-bin/bufrraob.py?type=TEXT:LIST&id=91165&datetime=2023-10-15%2000:00:00\n"
     ]
    },
    {
     "name": "stderr",
     "output_type": "stream",
     "text": [
      "C:\\Users\\Angela\\Anaconda3\\lib\\site-packages\\urllib3\\connectionpool.py:847: InsecureRequestWarning: Unverified HTTPS request is being made. Adding certificate verification is strongly advised. See: https://urllib3.readthedocs.io/en/latest/advanced-usage.html#ssl-warnings\n",
      "  InsecureRequestWarning)\n"
     ]
    },
    {
     "name": "stdout",
     "output_type": "stream",
     "text": [
      "https://weather.uwyo.edu/cgi-bin/bufrraob.py?type=TEXT:LIST&id=91165&datetime=2023-10-15%2012:00:00\n"
     ]
    },
    {
     "name": "stderr",
     "output_type": "stream",
     "text": [
      "C:\\Users\\Angela\\Anaconda3\\lib\\site-packages\\urllib3\\connectionpool.py:847: InsecureRequestWarning: Unverified HTTPS request is being made. Adding certificate verification is strongly advised. See: https://urllib3.readthedocs.io/en/latest/advanced-usage.html#ssl-warnings\n",
      "  InsecureRequestWarning)\n"
     ]
    },
    {
     "name": "stdout",
     "output_type": "stream",
     "text": [
      "https://weather.uwyo.edu/cgi-bin/bufrraob.py?type=TEXT:LIST&id=91165&datetime=2023-10-16%2000:00:00\n"
     ]
    },
    {
     "name": "stderr",
     "output_type": "stream",
     "text": [
      "C:\\Users\\Angela\\Anaconda3\\lib\\site-packages\\urllib3\\connectionpool.py:847: InsecureRequestWarning: Unverified HTTPS request is being made. Adding certificate verification is strongly advised. See: https://urllib3.readthedocs.io/en/latest/advanced-usage.html#ssl-warnings\n",
      "  InsecureRequestWarning)\n"
     ]
    },
    {
     "name": "stdout",
     "output_type": "stream",
     "text": [
      "https://weather.uwyo.edu/cgi-bin/bufrraob.py?type=TEXT:LIST&id=91165&datetime=2023-10-16%2012:00:00\n"
     ]
    },
    {
     "name": "stderr",
     "output_type": "stream",
     "text": [
      "C:\\Users\\Angela\\Anaconda3\\lib\\site-packages\\urllib3\\connectionpool.py:847: InsecureRequestWarning: Unverified HTTPS request is being made. Adding certificate verification is strongly advised. See: https://urllib3.readthedocs.io/en/latest/advanced-usage.html#ssl-warnings\n",
      "  InsecureRequestWarning)\n"
     ]
    },
    {
     "name": "stdout",
     "output_type": "stream",
     "text": [
      "https://weather.uwyo.edu/cgi-bin/bufrraob.py?type=TEXT:LIST&id=91165&datetime=2023-10-17%2000:00:00\n"
     ]
    },
    {
     "name": "stderr",
     "output_type": "stream",
     "text": [
      "C:\\Users\\Angela\\Anaconda3\\lib\\site-packages\\urllib3\\connectionpool.py:847: InsecureRequestWarning: Unverified HTTPS request is being made. Adding certificate verification is strongly advised. See: https://urllib3.readthedocs.io/en/latest/advanced-usage.html#ssl-warnings\n",
      "  InsecureRequestWarning)\n"
     ]
    },
    {
     "name": "stdout",
     "output_type": "stream",
     "text": [
      "https://weather.uwyo.edu/cgi-bin/bufrraob.py?type=TEXT:LIST&id=91165&datetime=2023-10-17%2012:00:00\n"
     ]
    },
    {
     "name": "stderr",
     "output_type": "stream",
     "text": [
      "C:\\Users\\Angela\\Anaconda3\\lib\\site-packages\\urllib3\\connectionpool.py:847: InsecureRequestWarning: Unverified HTTPS request is being made. Adding certificate verification is strongly advised. See: https://urllib3.readthedocs.io/en/latest/advanced-usage.html#ssl-warnings\n",
      "  InsecureRequestWarning)\n"
     ]
    },
    {
     "name": "stdout",
     "output_type": "stream",
     "text": [
      "https://weather.uwyo.edu/cgi-bin/bufrraob.py?type=TEXT:LIST&id=91165&datetime=2023-10-18%2000:00:00\n"
     ]
    },
    {
     "name": "stderr",
     "output_type": "stream",
     "text": [
      "C:\\Users\\Angela\\Anaconda3\\lib\\site-packages\\urllib3\\connectionpool.py:847: InsecureRequestWarning: Unverified HTTPS request is being made. Adding certificate verification is strongly advised. See: https://urllib3.readthedocs.io/en/latest/advanced-usage.html#ssl-warnings\n",
      "  InsecureRequestWarning)\n"
     ]
    },
    {
     "name": "stdout",
     "output_type": "stream",
     "text": [
      "https://weather.uwyo.edu/cgi-bin/bufrraob.py?type=TEXT:LIST&id=91165&datetime=2023-10-18%2012:00:00\n"
     ]
    },
    {
     "name": "stderr",
     "output_type": "stream",
     "text": [
      "C:\\Users\\Angela\\Anaconda3\\lib\\site-packages\\urllib3\\connectionpool.py:847: InsecureRequestWarning: Unverified HTTPS request is being made. Adding certificate verification is strongly advised. See: https://urllib3.readthedocs.io/en/latest/advanced-usage.html#ssl-warnings\n",
      "  InsecureRequestWarning)\n"
     ]
    },
    {
     "name": "stdout",
     "output_type": "stream",
     "text": [
      "https://weather.uwyo.edu/cgi-bin/bufrraob.py?type=TEXT:LIST&id=91165&datetime=2023-10-19%2000:00:00\n"
     ]
    },
    {
     "name": "stderr",
     "output_type": "stream",
     "text": [
      "C:\\Users\\Angela\\Anaconda3\\lib\\site-packages\\urllib3\\connectionpool.py:847: InsecureRequestWarning: Unverified HTTPS request is being made. Adding certificate verification is strongly advised. See: https://urllib3.readthedocs.io/en/latest/advanced-usage.html#ssl-warnings\n",
      "  InsecureRequestWarning)\n"
     ]
    },
    {
     "name": "stdout",
     "output_type": "stream",
     "text": [
      "https://weather.uwyo.edu/cgi-bin/bufrraob.py?type=TEXT:LIST&id=91165&datetime=2023-10-19%2012:00:00\n"
     ]
    },
    {
     "name": "stderr",
     "output_type": "stream",
     "text": [
      "C:\\Users\\Angela\\Anaconda3\\lib\\site-packages\\urllib3\\connectionpool.py:847: InsecureRequestWarning: Unverified HTTPS request is being made. Adding certificate verification is strongly advised. See: https://urllib3.readthedocs.io/en/latest/advanced-usage.html#ssl-warnings\n",
      "  InsecureRequestWarning)\n"
     ]
    },
    {
     "name": "stdout",
     "output_type": "stream",
     "text": [
      "https://weather.uwyo.edu/cgi-bin/bufrraob.py?type=TEXT:LIST&id=91165&datetime=2023-10-20%2000:00:00\n"
     ]
    },
    {
     "name": "stderr",
     "output_type": "stream",
     "text": [
      "C:\\Users\\Angela\\Anaconda3\\lib\\site-packages\\urllib3\\connectionpool.py:847: InsecureRequestWarning: Unverified HTTPS request is being made. Adding certificate verification is strongly advised. See: https://urllib3.readthedocs.io/en/latest/advanced-usage.html#ssl-warnings\n",
      "  InsecureRequestWarning)\n"
     ]
    },
    {
     "name": "stdout",
     "output_type": "stream",
     "text": [
      "https://weather.uwyo.edu/cgi-bin/bufrraob.py?type=TEXT:LIST&id=91165&datetime=2023-10-20%2012:00:00\n"
     ]
    },
    {
     "name": "stderr",
     "output_type": "stream",
     "text": [
      "C:\\Users\\Angela\\Anaconda3\\lib\\site-packages\\urllib3\\connectionpool.py:847: InsecureRequestWarning: Unverified HTTPS request is being made. Adding certificate verification is strongly advised. See: https://urllib3.readthedocs.io/en/latest/advanced-usage.html#ssl-warnings\n",
      "  InsecureRequestWarning)\n"
     ]
    },
    {
     "name": "stdout",
     "output_type": "stream",
     "text": [
      "https://weather.uwyo.edu/cgi-bin/bufrraob.py?type=TEXT:LIST&id=91165&datetime=2023-10-21%2000:00:00\n"
     ]
    },
    {
     "name": "stderr",
     "output_type": "stream",
     "text": [
      "C:\\Users\\Angela\\Anaconda3\\lib\\site-packages\\urllib3\\connectionpool.py:847: InsecureRequestWarning: Unverified HTTPS request is being made. Adding certificate verification is strongly advised. See: https://urllib3.readthedocs.io/en/latest/advanced-usage.html#ssl-warnings\n",
      "  InsecureRequestWarning)\n"
     ]
    },
    {
     "name": "stdout",
     "output_type": "stream",
     "text": [
      "https://weather.uwyo.edu/cgi-bin/bufrraob.py?type=TEXT:LIST&id=91165&datetime=2023-10-21%2012:00:00\n"
     ]
    },
    {
     "name": "stderr",
     "output_type": "stream",
     "text": [
      "C:\\Users\\Angela\\Anaconda3\\lib\\site-packages\\urllib3\\connectionpool.py:847: InsecureRequestWarning: Unverified HTTPS request is being made. Adding certificate verification is strongly advised. See: https://urllib3.readthedocs.io/en/latest/advanced-usage.html#ssl-warnings\n",
      "  InsecureRequestWarning)\n"
     ]
    },
    {
     "name": "stdout",
     "output_type": "stream",
     "text": [
      "https://weather.uwyo.edu/cgi-bin/bufrraob.py?type=TEXT:LIST&id=91165&datetime=2023-10-22%2000:00:00\n"
     ]
    },
    {
     "name": "stderr",
     "output_type": "stream",
     "text": [
      "C:\\Users\\Angela\\Anaconda3\\lib\\site-packages\\urllib3\\connectionpool.py:847: InsecureRequestWarning: Unverified HTTPS request is being made. Adding certificate verification is strongly advised. See: https://urllib3.readthedocs.io/en/latest/advanced-usage.html#ssl-warnings\n",
      "  InsecureRequestWarning)\n"
     ]
    },
    {
     "name": "stdout",
     "output_type": "stream",
     "text": [
      "https://weather.uwyo.edu/cgi-bin/bufrraob.py?type=TEXT:LIST&id=91165&datetime=2023-10-22%2012:00:00\n"
     ]
    },
    {
     "name": "stderr",
     "output_type": "stream",
     "text": [
      "C:\\Users\\Angela\\Anaconda3\\lib\\site-packages\\urllib3\\connectionpool.py:847: InsecureRequestWarning: Unverified HTTPS request is being made. Adding certificate verification is strongly advised. See: https://urllib3.readthedocs.io/en/latest/advanced-usage.html#ssl-warnings\n",
      "  InsecureRequestWarning)\n"
     ]
    },
    {
     "name": "stdout",
     "output_type": "stream",
     "text": [
      "https://weather.uwyo.edu/cgi-bin/bufrraob.py?type=TEXT:LIST&id=91165&datetime=2023-10-23%2000:00:00\n"
     ]
    },
    {
     "name": "stderr",
     "output_type": "stream",
     "text": [
      "C:\\Users\\Angela\\Anaconda3\\lib\\site-packages\\urllib3\\connectionpool.py:847: InsecureRequestWarning: Unverified HTTPS request is being made. Adding certificate verification is strongly advised. See: https://urllib3.readthedocs.io/en/latest/advanced-usage.html#ssl-warnings\n",
      "  InsecureRequestWarning)\n"
     ]
    },
    {
     "name": "stdout",
     "output_type": "stream",
     "text": [
      "https://weather.uwyo.edu/cgi-bin/bufrraob.py?type=TEXT:LIST&id=91165&datetime=2023-10-23%2012:00:00\n"
     ]
    },
    {
     "name": "stderr",
     "output_type": "stream",
     "text": [
      "C:\\Users\\Angela\\Anaconda3\\lib\\site-packages\\urllib3\\connectionpool.py:847: InsecureRequestWarning: Unverified HTTPS request is being made. Adding certificate verification is strongly advised. See: https://urllib3.readthedocs.io/en/latest/advanced-usage.html#ssl-warnings\n",
      "  InsecureRequestWarning)\n"
     ]
    },
    {
     "name": "stdout",
     "output_type": "stream",
     "text": [
      "https://weather.uwyo.edu/cgi-bin/bufrraob.py?type=TEXT:LIST&id=91165&datetime=2023-10-24%2000:00:00\n"
     ]
    },
    {
     "name": "stderr",
     "output_type": "stream",
     "text": [
      "C:\\Users\\Angela\\Anaconda3\\lib\\site-packages\\urllib3\\connectionpool.py:847: InsecureRequestWarning: Unverified HTTPS request is being made. Adding certificate verification is strongly advised. See: https://urllib3.readthedocs.io/en/latest/advanced-usage.html#ssl-warnings\n",
      "  InsecureRequestWarning)\n"
     ]
    },
    {
     "name": "stdout",
     "output_type": "stream",
     "text": [
      "https://weather.uwyo.edu/cgi-bin/bufrraob.py?type=TEXT:LIST&id=91165&datetime=2023-10-24%2012:00:00\n"
     ]
    },
    {
     "name": "stderr",
     "output_type": "stream",
     "text": [
      "C:\\Users\\Angela\\Anaconda3\\lib\\site-packages\\urllib3\\connectionpool.py:847: InsecureRequestWarning: Unverified HTTPS request is being made. Adding certificate verification is strongly advised. See: https://urllib3.readthedocs.io/en/latest/advanced-usage.html#ssl-warnings\n",
      "  InsecureRequestWarning)\n"
     ]
    },
    {
     "name": "stdout",
     "output_type": "stream",
     "text": [
      "https://weather.uwyo.edu/cgi-bin/bufrraob.py?type=TEXT:LIST&id=91165&datetime=2023-10-25%2000:00:00\n"
     ]
    },
    {
     "name": "stderr",
     "output_type": "stream",
     "text": [
      "C:\\Users\\Angela\\Anaconda3\\lib\\site-packages\\urllib3\\connectionpool.py:847: InsecureRequestWarning: Unverified HTTPS request is being made. Adding certificate verification is strongly advised. See: https://urllib3.readthedocs.io/en/latest/advanced-usage.html#ssl-warnings\n",
      "  InsecureRequestWarning)\n"
     ]
    },
    {
     "name": "stdout",
     "output_type": "stream",
     "text": [
      "https://weather.uwyo.edu/cgi-bin/bufrraob.py?type=TEXT:LIST&id=91165&datetime=2023-10-25%2012:00:00\n"
     ]
    },
    {
     "name": "stderr",
     "output_type": "stream",
     "text": [
      "C:\\Users\\Angela\\Anaconda3\\lib\\site-packages\\urllib3\\connectionpool.py:847: InsecureRequestWarning: Unverified HTTPS request is being made. Adding certificate verification is strongly advised. See: https://urllib3.readthedocs.io/en/latest/advanced-usage.html#ssl-warnings\n",
      "  InsecureRequestWarning)\n"
     ]
    },
    {
     "name": "stdout",
     "output_type": "stream",
     "text": [
      "https://weather.uwyo.edu/cgi-bin/bufrraob.py?type=TEXT:LIST&id=91165&datetime=2023-10-26%2000:00:00\n"
     ]
    },
    {
     "name": "stderr",
     "output_type": "stream",
     "text": [
      "C:\\Users\\Angela\\Anaconda3\\lib\\site-packages\\urllib3\\connectionpool.py:847: InsecureRequestWarning: Unverified HTTPS request is being made. Adding certificate verification is strongly advised. See: https://urllib3.readthedocs.io/en/latest/advanced-usage.html#ssl-warnings\n",
      "  InsecureRequestWarning)\n"
     ]
    },
    {
     "name": "stdout",
     "output_type": "stream",
     "text": [
      "https://weather.uwyo.edu/cgi-bin/bufrraob.py?type=TEXT:LIST&id=91165&datetime=2023-10-26%2012:00:00\n"
     ]
    },
    {
     "name": "stderr",
     "output_type": "stream",
     "text": [
      "C:\\Users\\Angela\\Anaconda3\\lib\\site-packages\\urllib3\\connectionpool.py:847: InsecureRequestWarning: Unverified HTTPS request is being made. Adding certificate verification is strongly advised. See: https://urllib3.readthedocs.io/en/latest/advanced-usage.html#ssl-warnings\n",
      "  InsecureRequestWarning)\n"
     ]
    },
    {
     "name": "stdout",
     "output_type": "stream",
     "text": [
      "https://weather.uwyo.edu/cgi-bin/bufrraob.py?type=TEXT:LIST&id=91165&datetime=2023-10-27%2000:00:00\n"
     ]
    },
    {
     "name": "stderr",
     "output_type": "stream",
     "text": [
      "C:\\Users\\Angela\\Anaconda3\\lib\\site-packages\\urllib3\\connectionpool.py:847: InsecureRequestWarning: Unverified HTTPS request is being made. Adding certificate verification is strongly advised. See: https://urllib3.readthedocs.io/en/latest/advanced-usage.html#ssl-warnings\n",
      "  InsecureRequestWarning)\n"
     ]
    },
    {
     "name": "stdout",
     "output_type": "stream",
     "text": [
      "https://weather.uwyo.edu/cgi-bin/bufrraob.py?type=TEXT:LIST&id=91165&datetime=2023-10-27%2012:00:00\n"
     ]
    },
    {
     "name": "stderr",
     "output_type": "stream",
     "text": [
      "C:\\Users\\Angela\\Anaconda3\\lib\\site-packages\\urllib3\\connectionpool.py:847: InsecureRequestWarning: Unverified HTTPS request is being made. Adding certificate verification is strongly advised. See: https://urllib3.readthedocs.io/en/latest/advanced-usage.html#ssl-warnings\n",
      "  InsecureRequestWarning)\n"
     ]
    },
    {
     "name": "stdout",
     "output_type": "stream",
     "text": [
      "https://weather.uwyo.edu/cgi-bin/bufrraob.py?type=TEXT:LIST&id=91165&datetime=2023-10-28%2000:00:00\n"
     ]
    },
    {
     "name": "stderr",
     "output_type": "stream",
     "text": [
      "C:\\Users\\Angela\\Anaconda3\\lib\\site-packages\\urllib3\\connectionpool.py:847: InsecureRequestWarning: Unverified HTTPS request is being made. Adding certificate verification is strongly advised. See: https://urllib3.readthedocs.io/en/latest/advanced-usage.html#ssl-warnings\n",
      "  InsecureRequestWarning)\n"
     ]
    },
    {
     "name": "stdout",
     "output_type": "stream",
     "text": [
      "https://weather.uwyo.edu/cgi-bin/bufrraob.py?type=TEXT:LIST&id=91165&datetime=2023-10-28%2012:00:00\n"
     ]
    },
    {
     "name": "stderr",
     "output_type": "stream",
     "text": [
      "C:\\Users\\Angela\\Anaconda3\\lib\\site-packages\\urllib3\\connectionpool.py:847: InsecureRequestWarning: Unverified HTTPS request is being made. Adding certificate verification is strongly advised. See: https://urllib3.readthedocs.io/en/latest/advanced-usage.html#ssl-warnings\n",
      "  InsecureRequestWarning)\n"
     ]
    },
    {
     "name": "stdout",
     "output_type": "stream",
     "text": [
      "https://weather.uwyo.edu/cgi-bin/bufrraob.py?type=TEXT:LIST&id=91165&datetime=2023-10-29%2000:00:00\n"
     ]
    },
    {
     "name": "stderr",
     "output_type": "stream",
     "text": [
      "C:\\Users\\Angela\\Anaconda3\\lib\\site-packages\\urllib3\\connectionpool.py:847: InsecureRequestWarning: Unverified HTTPS request is being made. Adding certificate verification is strongly advised. See: https://urllib3.readthedocs.io/en/latest/advanced-usage.html#ssl-warnings\n",
      "  InsecureRequestWarning)\n"
     ]
    },
    {
     "name": "stdout",
     "output_type": "stream",
     "text": [
      "https://weather.uwyo.edu/cgi-bin/bufrraob.py?type=TEXT:LIST&id=91165&datetime=2023-10-29%2012:00:00\n"
     ]
    },
    {
     "name": "stderr",
     "output_type": "stream",
     "text": [
      "C:\\Users\\Angela\\Anaconda3\\lib\\site-packages\\urllib3\\connectionpool.py:847: InsecureRequestWarning: Unverified HTTPS request is being made. Adding certificate verification is strongly advised. See: https://urllib3.readthedocs.io/en/latest/advanced-usage.html#ssl-warnings\n",
      "  InsecureRequestWarning)\n"
     ]
    },
    {
     "name": "stdout",
     "output_type": "stream",
     "text": [
      "https://weather.uwyo.edu/cgi-bin/bufrraob.py?type=TEXT:LIST&id=91165&datetime=2023-10-30%2000:00:00\n"
     ]
    },
    {
     "name": "stderr",
     "output_type": "stream",
     "text": [
      "C:\\Users\\Angela\\Anaconda3\\lib\\site-packages\\urllib3\\connectionpool.py:847: InsecureRequestWarning: Unverified HTTPS request is being made. Adding certificate verification is strongly advised. See: https://urllib3.readthedocs.io/en/latest/advanced-usage.html#ssl-warnings\n",
      "  InsecureRequestWarning)\n"
     ]
    },
    {
     "name": "stdout",
     "output_type": "stream",
     "text": [
      "https://weather.uwyo.edu/cgi-bin/bufrraob.py?type=TEXT:LIST&id=91165&datetime=2023-10-30%2012:00:00\n"
     ]
    },
    {
     "name": "stderr",
     "output_type": "stream",
     "text": [
      "C:\\Users\\Angela\\Anaconda3\\lib\\site-packages\\urllib3\\connectionpool.py:847: InsecureRequestWarning: Unverified HTTPS request is being made. Adding certificate verification is strongly advised. See: https://urllib3.readthedocs.io/en/latest/advanced-usage.html#ssl-warnings\n",
      "  InsecureRequestWarning)\n"
     ]
    },
    {
     "name": "stdout",
     "output_type": "stream",
     "text": [
      "https://weather.uwyo.edu/cgi-bin/bufrraob.py?type=TEXT:LIST&id=91165&datetime=2023-10-31%2000:00:00\n"
     ]
    },
    {
     "name": "stderr",
     "output_type": "stream",
     "text": [
      "C:\\Users\\Angela\\Anaconda3\\lib\\site-packages\\urllib3\\connectionpool.py:847: InsecureRequestWarning: Unverified HTTPS request is being made. Adding certificate verification is strongly advised. See: https://urllib3.readthedocs.io/en/latest/advanced-usage.html#ssl-warnings\n",
      "  InsecureRequestWarning)\n"
     ]
    },
    {
     "name": "stdout",
     "output_type": "stream",
     "text": [
      "https://weather.uwyo.edu/cgi-bin/bufrraob.py?type=TEXT:LIST&id=91165&datetime=2023-10-31%2012:00:00\n"
     ]
    },
    {
     "name": "stderr",
     "output_type": "stream",
     "text": [
      "C:\\Users\\Angela\\Anaconda3\\lib\\site-packages\\urllib3\\connectionpool.py:847: InsecureRequestWarning: Unverified HTTPS request is being made. Adding certificate verification is strongly advised. See: https://urllib3.readthedocs.io/en/latest/advanced-usage.html#ssl-warnings\n",
      "  InsecureRequestWarning)\n"
     ]
    },
    {
     "name": "stdout",
     "output_type": "stream",
     "text": [
      "Moving to November\n",
      "https://weather.uwyo.edu/cgi-bin/bufrraob.py?type=TEXT:LIST&id=91165&datetime=2023-11-01%2000:00:00\n"
     ]
    },
    {
     "name": "stderr",
     "output_type": "stream",
     "text": [
      "C:\\Users\\Angela\\Anaconda3\\lib\\site-packages\\urllib3\\connectionpool.py:847: InsecureRequestWarning: Unverified HTTPS request is being made. Adding certificate verification is strongly advised. See: https://urllib3.readthedocs.io/en/latest/advanced-usage.html#ssl-warnings\n",
      "  InsecureRequestWarning)\n"
     ]
    },
    {
     "name": "stdout",
     "output_type": "stream",
     "text": [
      "https://weather.uwyo.edu/cgi-bin/bufrraob.py?type=TEXT:LIST&id=91165&datetime=2023-11-01%2012:00:00\n"
     ]
    },
    {
     "name": "stderr",
     "output_type": "stream",
     "text": [
      "C:\\Users\\Angela\\Anaconda3\\lib\\site-packages\\urllib3\\connectionpool.py:847: InsecureRequestWarning: Unverified HTTPS request is being made. Adding certificate verification is strongly advised. See: https://urllib3.readthedocs.io/en/latest/advanced-usage.html#ssl-warnings\n",
      "  InsecureRequestWarning)\n"
     ]
    },
    {
     "name": "stdout",
     "output_type": "stream",
     "text": [
      "https://weather.uwyo.edu/cgi-bin/bufrraob.py?type=TEXT:LIST&id=91165&datetime=2023-11-02%2000:00:00\n"
     ]
    },
    {
     "name": "stderr",
     "output_type": "stream",
     "text": [
      "C:\\Users\\Angela\\Anaconda3\\lib\\site-packages\\urllib3\\connectionpool.py:847: InsecureRequestWarning: Unverified HTTPS request is being made. Adding certificate verification is strongly advised. See: https://urllib3.readthedocs.io/en/latest/advanced-usage.html#ssl-warnings\n",
      "  InsecureRequestWarning)\n"
     ]
    },
    {
     "name": "stdout",
     "output_type": "stream",
     "text": [
      "https://weather.uwyo.edu/cgi-bin/bufrraob.py?type=TEXT:LIST&id=91165&datetime=2023-11-02%2012:00:00\n"
     ]
    },
    {
     "name": "stderr",
     "output_type": "stream",
     "text": [
      "C:\\Users\\Angela\\Anaconda3\\lib\\site-packages\\urllib3\\connectionpool.py:847: InsecureRequestWarning: Unverified HTTPS request is being made. Adding certificate verification is strongly advised. See: https://urllib3.readthedocs.io/en/latest/advanced-usage.html#ssl-warnings\n",
      "  InsecureRequestWarning)\n"
     ]
    },
    {
     "name": "stdout",
     "output_type": "stream",
     "text": [
      "https://weather.uwyo.edu/cgi-bin/bufrraob.py?type=TEXT:LIST&id=91165&datetime=2023-11-03%2000:00:00\n"
     ]
    },
    {
     "name": "stderr",
     "output_type": "stream",
     "text": [
      "C:\\Users\\Angela\\Anaconda3\\lib\\site-packages\\urllib3\\connectionpool.py:847: InsecureRequestWarning: Unverified HTTPS request is being made. Adding certificate verification is strongly advised. See: https://urllib3.readthedocs.io/en/latest/advanced-usage.html#ssl-warnings\n",
      "  InsecureRequestWarning)\n"
     ]
    },
    {
     "name": "stdout",
     "output_type": "stream",
     "text": [
      "https://weather.uwyo.edu/cgi-bin/bufrraob.py?type=TEXT:LIST&id=91165&datetime=2023-11-03%2012:00:00\n"
     ]
    },
    {
     "name": "stderr",
     "output_type": "stream",
     "text": [
      "C:\\Users\\Angela\\Anaconda3\\lib\\site-packages\\urllib3\\connectionpool.py:847: InsecureRequestWarning: Unverified HTTPS request is being made. Adding certificate verification is strongly advised. See: https://urllib3.readthedocs.io/en/latest/advanced-usage.html#ssl-warnings\n",
      "  InsecureRequestWarning)\n"
     ]
    },
    {
     "name": "stdout",
     "output_type": "stream",
     "text": [
      "https://weather.uwyo.edu/cgi-bin/bufrraob.py?type=TEXT:LIST&id=91165&datetime=2023-11-04%2000:00:00\n"
     ]
    },
    {
     "name": "stderr",
     "output_type": "stream",
     "text": [
      "C:\\Users\\Angela\\Anaconda3\\lib\\site-packages\\urllib3\\connectionpool.py:847: InsecureRequestWarning: Unverified HTTPS request is being made. Adding certificate verification is strongly advised. See: https://urllib3.readthedocs.io/en/latest/advanced-usage.html#ssl-warnings\n",
      "  InsecureRequestWarning)\n"
     ]
    },
    {
     "name": "stdout",
     "output_type": "stream",
     "text": [
      "https://weather.uwyo.edu/cgi-bin/bufrraob.py?type=TEXT:LIST&id=91165&datetime=2023-11-04%2012:00:00\n"
     ]
    },
    {
     "name": "stderr",
     "output_type": "stream",
     "text": [
      "C:\\Users\\Angela\\Anaconda3\\lib\\site-packages\\urllib3\\connectionpool.py:847: InsecureRequestWarning: Unverified HTTPS request is being made. Adding certificate verification is strongly advised. See: https://urllib3.readthedocs.io/en/latest/advanced-usage.html#ssl-warnings\n",
      "  InsecureRequestWarning)\n"
     ]
    },
    {
     "name": "stdout",
     "output_type": "stream",
     "text": [
      "https://weather.uwyo.edu/cgi-bin/bufrraob.py?type=TEXT:LIST&id=91165&datetime=2023-11-05%2000:00:00\n"
     ]
    },
    {
     "name": "stderr",
     "output_type": "stream",
     "text": [
      "C:\\Users\\Angela\\Anaconda3\\lib\\site-packages\\urllib3\\connectionpool.py:847: InsecureRequestWarning: Unverified HTTPS request is being made. Adding certificate verification is strongly advised. See: https://urllib3.readthedocs.io/en/latest/advanced-usage.html#ssl-warnings\n",
      "  InsecureRequestWarning)\n"
     ]
    },
    {
     "name": "stdout",
     "output_type": "stream",
     "text": [
      "https://weather.uwyo.edu/cgi-bin/bufrraob.py?type=TEXT:LIST&id=91165&datetime=2023-11-05%2012:00:00\n"
     ]
    },
    {
     "name": "stderr",
     "output_type": "stream",
     "text": [
      "C:\\Users\\Angela\\Anaconda3\\lib\\site-packages\\urllib3\\connectionpool.py:847: InsecureRequestWarning: Unverified HTTPS request is being made. Adding certificate verification is strongly advised. See: https://urllib3.readthedocs.io/en/latest/advanced-usage.html#ssl-warnings\n",
      "  InsecureRequestWarning)\n"
     ]
    },
    {
     "name": "stdout",
     "output_type": "stream",
     "text": [
      "https://weather.uwyo.edu/cgi-bin/bufrraob.py?type=TEXT:LIST&id=91165&datetime=2023-11-06%2000:00:00\n"
     ]
    },
    {
     "name": "stderr",
     "output_type": "stream",
     "text": [
      "C:\\Users\\Angela\\Anaconda3\\lib\\site-packages\\urllib3\\connectionpool.py:847: InsecureRequestWarning: Unverified HTTPS request is being made. Adding certificate verification is strongly advised. See: https://urllib3.readthedocs.io/en/latest/advanced-usage.html#ssl-warnings\n",
      "  InsecureRequestWarning)\n"
     ]
    },
    {
     "name": "stdout",
     "output_type": "stream",
     "text": [
      "https://weather.uwyo.edu/cgi-bin/bufrraob.py?type=TEXT:LIST&id=91165&datetime=2023-11-06%2012:00:00\n"
     ]
    },
    {
     "name": "stderr",
     "output_type": "stream",
     "text": [
      "C:\\Users\\Angela\\Anaconda3\\lib\\site-packages\\urllib3\\connectionpool.py:847: InsecureRequestWarning: Unverified HTTPS request is being made. Adding certificate verification is strongly advised. See: https://urllib3.readthedocs.io/en/latest/advanced-usage.html#ssl-warnings\n",
      "  InsecureRequestWarning)\n"
     ]
    },
    {
     "name": "stdout",
     "output_type": "stream",
     "text": [
      "https://weather.uwyo.edu/cgi-bin/bufrraob.py?type=TEXT:LIST&id=91165&datetime=2023-11-07%2000:00:00\n"
     ]
    },
    {
     "name": "stderr",
     "output_type": "stream",
     "text": [
      "C:\\Users\\Angela\\Anaconda3\\lib\\site-packages\\urllib3\\connectionpool.py:847: InsecureRequestWarning: Unverified HTTPS request is being made. Adding certificate verification is strongly advised. See: https://urllib3.readthedocs.io/en/latest/advanced-usage.html#ssl-warnings\n",
      "  InsecureRequestWarning)\n"
     ]
    },
    {
     "name": "stdout",
     "output_type": "stream",
     "text": [
      "https://weather.uwyo.edu/cgi-bin/bufrraob.py?type=TEXT:LIST&id=91165&datetime=2023-11-07%2012:00:00\n"
     ]
    },
    {
     "name": "stderr",
     "output_type": "stream",
     "text": [
      "C:\\Users\\Angela\\Anaconda3\\lib\\site-packages\\urllib3\\connectionpool.py:847: InsecureRequestWarning: Unverified HTTPS request is being made. Adding certificate verification is strongly advised. See: https://urllib3.readthedocs.io/en/latest/advanced-usage.html#ssl-warnings\n",
      "  InsecureRequestWarning)\n"
     ]
    },
    {
     "name": "stdout",
     "output_type": "stream",
     "text": [
      "https://weather.uwyo.edu/cgi-bin/bufrraob.py?type=TEXT:LIST&id=91165&datetime=2023-11-08%2000:00:00\n"
     ]
    },
    {
     "name": "stderr",
     "output_type": "stream",
     "text": [
      "C:\\Users\\Angela\\Anaconda3\\lib\\site-packages\\urllib3\\connectionpool.py:847: InsecureRequestWarning: Unverified HTTPS request is being made. Adding certificate verification is strongly advised. See: https://urllib3.readthedocs.io/en/latest/advanced-usage.html#ssl-warnings\n",
      "  InsecureRequestWarning)\n"
     ]
    },
    {
     "name": "stdout",
     "output_type": "stream",
     "text": [
      "https://weather.uwyo.edu/cgi-bin/bufrraob.py?type=TEXT:LIST&id=91165&datetime=2023-11-08%2012:00:00\n"
     ]
    },
    {
     "name": "stderr",
     "output_type": "stream",
     "text": [
      "C:\\Users\\Angela\\Anaconda3\\lib\\site-packages\\urllib3\\connectionpool.py:847: InsecureRequestWarning: Unverified HTTPS request is being made. Adding certificate verification is strongly advised. See: https://urllib3.readthedocs.io/en/latest/advanced-usage.html#ssl-warnings\n",
      "  InsecureRequestWarning)\n"
     ]
    },
    {
     "name": "stdout",
     "output_type": "stream",
     "text": [
      "https://weather.uwyo.edu/cgi-bin/bufrraob.py?type=TEXT:LIST&id=91165&datetime=2023-11-09%2000:00:00\n"
     ]
    },
    {
     "name": "stderr",
     "output_type": "stream",
     "text": [
      "C:\\Users\\Angela\\Anaconda3\\lib\\site-packages\\urllib3\\connectionpool.py:847: InsecureRequestWarning: Unverified HTTPS request is being made. Adding certificate verification is strongly advised. See: https://urllib3.readthedocs.io/en/latest/advanced-usage.html#ssl-warnings\n",
      "  InsecureRequestWarning)\n"
     ]
    },
    {
     "name": "stdout",
     "output_type": "stream",
     "text": [
      "https://weather.uwyo.edu/cgi-bin/bufrraob.py?type=TEXT:LIST&id=91165&datetime=2023-11-09%2012:00:00\n"
     ]
    },
    {
     "name": "stderr",
     "output_type": "stream",
     "text": [
      "C:\\Users\\Angela\\Anaconda3\\lib\\site-packages\\urllib3\\connectionpool.py:847: InsecureRequestWarning: Unverified HTTPS request is being made. Adding certificate verification is strongly advised. See: https://urllib3.readthedocs.io/en/latest/advanced-usage.html#ssl-warnings\n",
      "  InsecureRequestWarning)\n"
     ]
    },
    {
     "name": "stdout",
     "output_type": "stream",
     "text": [
      "https://weather.uwyo.edu/cgi-bin/bufrraob.py?type=TEXT:LIST&id=91165&datetime=2023-11-10%2000:00:00\n"
     ]
    },
    {
     "name": "stderr",
     "output_type": "stream",
     "text": [
      "C:\\Users\\Angela\\Anaconda3\\lib\\site-packages\\urllib3\\connectionpool.py:847: InsecureRequestWarning: Unverified HTTPS request is being made. Adding certificate verification is strongly advised. See: https://urllib3.readthedocs.io/en/latest/advanced-usage.html#ssl-warnings\n",
      "  InsecureRequestWarning)\n"
     ]
    },
    {
     "name": "stdout",
     "output_type": "stream",
     "text": [
      "https://weather.uwyo.edu/cgi-bin/bufrraob.py?type=TEXT:LIST&id=91165&datetime=2023-11-10%2012:00:00\n"
     ]
    },
    {
     "name": "stderr",
     "output_type": "stream",
     "text": [
      "C:\\Users\\Angela\\Anaconda3\\lib\\site-packages\\urllib3\\connectionpool.py:847: InsecureRequestWarning: Unverified HTTPS request is being made. Adding certificate verification is strongly advised. See: https://urllib3.readthedocs.io/en/latest/advanced-usage.html#ssl-warnings\n",
      "  InsecureRequestWarning)\n"
     ]
    },
    {
     "name": "stdout",
     "output_type": "stream",
     "text": [
      "https://weather.uwyo.edu/cgi-bin/bufrraob.py?type=TEXT:LIST&id=91165&datetime=2023-11-11%2000:00:00\n"
     ]
    },
    {
     "name": "stderr",
     "output_type": "stream",
     "text": [
      "C:\\Users\\Angela\\Anaconda3\\lib\\site-packages\\urllib3\\connectionpool.py:847: InsecureRequestWarning: Unverified HTTPS request is being made. Adding certificate verification is strongly advised. See: https://urllib3.readthedocs.io/en/latest/advanced-usage.html#ssl-warnings\n",
      "  InsecureRequestWarning)\n"
     ]
    },
    {
     "name": "stdout",
     "output_type": "stream",
     "text": [
      "https://weather.uwyo.edu/cgi-bin/bufrraob.py?type=TEXT:LIST&id=91165&datetime=2023-11-11%2012:00:00\n"
     ]
    },
    {
     "name": "stderr",
     "output_type": "stream",
     "text": [
      "C:\\Users\\Angela\\Anaconda3\\lib\\site-packages\\urllib3\\connectionpool.py:847: InsecureRequestWarning: Unverified HTTPS request is being made. Adding certificate verification is strongly advised. See: https://urllib3.readthedocs.io/en/latest/advanced-usage.html#ssl-warnings\n",
      "  InsecureRequestWarning)\n"
     ]
    },
    {
     "name": "stdout",
     "output_type": "stream",
     "text": [
      "https://weather.uwyo.edu/cgi-bin/bufrraob.py?type=TEXT:LIST&id=91165&datetime=2023-11-12%2000:00:00\n"
     ]
    },
    {
     "name": "stderr",
     "output_type": "stream",
     "text": [
      "C:\\Users\\Angela\\Anaconda3\\lib\\site-packages\\urllib3\\connectionpool.py:847: InsecureRequestWarning: Unverified HTTPS request is being made. Adding certificate verification is strongly advised. See: https://urllib3.readthedocs.io/en/latest/advanced-usage.html#ssl-warnings\n",
      "  InsecureRequestWarning)\n"
     ]
    },
    {
     "name": "stdout",
     "output_type": "stream",
     "text": [
      "https://weather.uwyo.edu/cgi-bin/bufrraob.py?type=TEXT:LIST&id=91165&datetime=2023-11-12%2012:00:00\n"
     ]
    },
    {
     "name": "stderr",
     "output_type": "stream",
     "text": [
      "C:\\Users\\Angela\\Anaconda3\\lib\\site-packages\\urllib3\\connectionpool.py:847: InsecureRequestWarning: Unverified HTTPS request is being made. Adding certificate verification is strongly advised. See: https://urllib3.readthedocs.io/en/latest/advanced-usage.html#ssl-warnings\n",
      "  InsecureRequestWarning)\n"
     ]
    },
    {
     "name": "stdout",
     "output_type": "stream",
     "text": [
      "https://weather.uwyo.edu/cgi-bin/bufrraob.py?type=TEXT:LIST&id=91165&datetime=2023-11-13%2000:00:00\n"
     ]
    },
    {
     "name": "stderr",
     "output_type": "stream",
     "text": [
      "C:\\Users\\Angela\\Anaconda3\\lib\\site-packages\\urllib3\\connectionpool.py:847: InsecureRequestWarning: Unverified HTTPS request is being made. Adding certificate verification is strongly advised. See: https://urllib3.readthedocs.io/en/latest/advanced-usage.html#ssl-warnings\n",
      "  InsecureRequestWarning)\n"
     ]
    },
    {
     "name": "stdout",
     "output_type": "stream",
     "text": [
      "https://weather.uwyo.edu/cgi-bin/bufrraob.py?type=TEXT:LIST&id=91165&datetime=2023-11-13%2012:00:00\n"
     ]
    },
    {
     "name": "stderr",
     "output_type": "stream",
     "text": [
      "C:\\Users\\Angela\\Anaconda3\\lib\\site-packages\\urllib3\\connectionpool.py:847: InsecureRequestWarning: Unverified HTTPS request is being made. Adding certificate verification is strongly advised. See: https://urllib3.readthedocs.io/en/latest/advanced-usage.html#ssl-warnings\n",
      "  InsecureRequestWarning)\n"
     ]
    },
    {
     "name": "stdout",
     "output_type": "stream",
     "text": [
      "https://weather.uwyo.edu/cgi-bin/bufrraob.py?type=TEXT:LIST&id=91165&datetime=2023-11-14%2000:00:00\n"
     ]
    },
    {
     "name": "stderr",
     "output_type": "stream",
     "text": [
      "C:\\Users\\Angela\\Anaconda3\\lib\\site-packages\\urllib3\\connectionpool.py:847: InsecureRequestWarning: Unverified HTTPS request is being made. Adding certificate verification is strongly advised. See: https://urllib3.readthedocs.io/en/latest/advanced-usage.html#ssl-warnings\n",
      "  InsecureRequestWarning)\n"
     ]
    },
    {
     "name": "stdout",
     "output_type": "stream",
     "text": [
      "https://weather.uwyo.edu/cgi-bin/bufrraob.py?type=TEXT:LIST&id=91165&datetime=2023-11-14%2012:00:00\n"
     ]
    },
    {
     "name": "stderr",
     "output_type": "stream",
     "text": [
      "C:\\Users\\Angela\\Anaconda3\\lib\\site-packages\\urllib3\\connectionpool.py:847: InsecureRequestWarning: Unverified HTTPS request is being made. Adding certificate verification is strongly advised. See: https://urllib3.readthedocs.io/en/latest/advanced-usage.html#ssl-warnings\n",
      "  InsecureRequestWarning)\n"
     ]
    },
    {
     "name": "stdout",
     "output_type": "stream",
     "text": [
      "https://weather.uwyo.edu/cgi-bin/bufrraob.py?type=TEXT:LIST&id=91165&datetime=2023-11-15%2000:00:00\n"
     ]
    },
    {
     "name": "stderr",
     "output_type": "stream",
     "text": [
      "C:\\Users\\Angela\\Anaconda3\\lib\\site-packages\\urllib3\\connectionpool.py:847: InsecureRequestWarning: Unverified HTTPS request is being made. Adding certificate verification is strongly advised. See: https://urllib3.readthedocs.io/en/latest/advanced-usage.html#ssl-warnings\n",
      "  InsecureRequestWarning)\n"
     ]
    },
    {
     "name": "stdout",
     "output_type": "stream",
     "text": [
      "https://weather.uwyo.edu/cgi-bin/bufrraob.py?type=TEXT:LIST&id=91165&datetime=2023-11-15%2012:00:00\n"
     ]
    },
    {
     "name": "stderr",
     "output_type": "stream",
     "text": [
      "C:\\Users\\Angela\\Anaconda3\\lib\\site-packages\\urllib3\\connectionpool.py:847: InsecureRequestWarning: Unverified HTTPS request is being made. Adding certificate verification is strongly advised. See: https://urllib3.readthedocs.io/en/latest/advanced-usage.html#ssl-warnings\n",
      "  InsecureRequestWarning)\n"
     ]
    },
    {
     "name": "stdout",
     "output_type": "stream",
     "text": [
      "https://weather.uwyo.edu/cgi-bin/bufrraob.py?type=TEXT:LIST&id=91165&datetime=2023-11-16%2000:00:00\n"
     ]
    },
    {
     "name": "stderr",
     "output_type": "stream",
     "text": [
      "C:\\Users\\Angela\\Anaconda3\\lib\\site-packages\\urllib3\\connectionpool.py:847: InsecureRequestWarning: Unverified HTTPS request is being made. Adding certificate verification is strongly advised. See: https://urllib3.readthedocs.io/en/latest/advanced-usage.html#ssl-warnings\n",
      "  InsecureRequestWarning)\n"
     ]
    },
    {
     "name": "stdout",
     "output_type": "stream",
     "text": [
      "https://weather.uwyo.edu/cgi-bin/bufrraob.py?type=TEXT:LIST&id=91165&datetime=2023-11-16%2012:00:00\n"
     ]
    },
    {
     "name": "stderr",
     "output_type": "stream",
     "text": [
      "C:\\Users\\Angela\\Anaconda3\\lib\\site-packages\\urllib3\\connectionpool.py:847: InsecureRequestWarning: Unverified HTTPS request is being made. Adding certificate verification is strongly advised. See: https://urllib3.readthedocs.io/en/latest/advanced-usage.html#ssl-warnings\n",
      "  InsecureRequestWarning)\n"
     ]
    },
    {
     "name": "stdout",
     "output_type": "stream",
     "text": [
      "https://weather.uwyo.edu/cgi-bin/bufrraob.py?type=TEXT:LIST&id=91165&datetime=2023-11-17%2000:00:00\n"
     ]
    },
    {
     "name": "stderr",
     "output_type": "stream",
     "text": [
      "C:\\Users\\Angela\\Anaconda3\\lib\\site-packages\\urllib3\\connectionpool.py:847: InsecureRequestWarning: Unverified HTTPS request is being made. Adding certificate verification is strongly advised. See: https://urllib3.readthedocs.io/en/latest/advanced-usage.html#ssl-warnings\n",
      "  InsecureRequestWarning)\n"
     ]
    },
    {
     "name": "stdout",
     "output_type": "stream",
     "text": [
      "https://weather.uwyo.edu/cgi-bin/bufrraob.py?type=TEXT:LIST&id=91165&datetime=2023-11-17%2012:00:00\n"
     ]
    },
    {
     "name": "stderr",
     "output_type": "stream",
     "text": [
      "C:\\Users\\Angela\\Anaconda3\\lib\\site-packages\\urllib3\\connectionpool.py:847: InsecureRequestWarning: Unverified HTTPS request is being made. Adding certificate verification is strongly advised. See: https://urllib3.readthedocs.io/en/latest/advanced-usage.html#ssl-warnings\n",
      "  InsecureRequestWarning)\n"
     ]
    },
    {
     "name": "stdout",
     "output_type": "stream",
     "text": [
      "https://weather.uwyo.edu/cgi-bin/bufrraob.py?type=TEXT:LIST&id=91165&datetime=2023-11-18%2000:00:00\n"
     ]
    },
    {
     "name": "stderr",
     "output_type": "stream",
     "text": [
      "C:\\Users\\Angela\\Anaconda3\\lib\\site-packages\\urllib3\\connectionpool.py:847: InsecureRequestWarning: Unverified HTTPS request is being made. Adding certificate verification is strongly advised. See: https://urllib3.readthedocs.io/en/latest/advanced-usage.html#ssl-warnings\n",
      "  InsecureRequestWarning)\n"
     ]
    },
    {
     "name": "stdout",
     "output_type": "stream",
     "text": [
      "https://weather.uwyo.edu/cgi-bin/bufrraob.py?type=TEXT:LIST&id=91165&datetime=2023-11-18%2012:00:00\n"
     ]
    },
    {
     "name": "stderr",
     "output_type": "stream",
     "text": [
      "C:\\Users\\Angela\\Anaconda3\\lib\\site-packages\\urllib3\\connectionpool.py:847: InsecureRequestWarning: Unverified HTTPS request is being made. Adding certificate verification is strongly advised. See: https://urllib3.readthedocs.io/en/latest/advanced-usage.html#ssl-warnings\n",
      "  InsecureRequestWarning)\n"
     ]
    },
    {
     "name": "stdout",
     "output_type": "stream",
     "text": [
      "https://weather.uwyo.edu/cgi-bin/bufrraob.py?type=TEXT:LIST&id=91165&datetime=2023-11-19%2000:00:00\n"
     ]
    },
    {
     "name": "stderr",
     "output_type": "stream",
     "text": [
      "C:\\Users\\Angela\\Anaconda3\\lib\\site-packages\\urllib3\\connectionpool.py:847: InsecureRequestWarning: Unverified HTTPS request is being made. Adding certificate verification is strongly advised. See: https://urllib3.readthedocs.io/en/latest/advanced-usage.html#ssl-warnings\n",
      "  InsecureRequestWarning)\n"
     ]
    },
    {
     "name": "stdout",
     "output_type": "stream",
     "text": [
      "https://weather.uwyo.edu/cgi-bin/bufrraob.py?type=TEXT:LIST&id=91165&datetime=2023-11-19%2012:00:00\n"
     ]
    },
    {
     "name": "stderr",
     "output_type": "stream",
     "text": [
      "C:\\Users\\Angela\\Anaconda3\\lib\\site-packages\\urllib3\\connectionpool.py:847: InsecureRequestWarning: Unverified HTTPS request is being made. Adding certificate verification is strongly advised. See: https://urllib3.readthedocs.io/en/latest/advanced-usage.html#ssl-warnings\n",
      "  InsecureRequestWarning)\n"
     ]
    },
    {
     "name": "stdout",
     "output_type": "stream",
     "text": [
      "https://weather.uwyo.edu/cgi-bin/bufrraob.py?type=TEXT:LIST&id=91165&datetime=2023-11-20%2000:00:00\n"
     ]
    },
    {
     "name": "stderr",
     "output_type": "stream",
     "text": [
      "C:\\Users\\Angela\\Anaconda3\\lib\\site-packages\\urllib3\\connectionpool.py:847: InsecureRequestWarning: Unverified HTTPS request is being made. Adding certificate verification is strongly advised. See: https://urllib3.readthedocs.io/en/latest/advanced-usage.html#ssl-warnings\n",
      "  InsecureRequestWarning)\n"
     ]
    },
    {
     "name": "stdout",
     "output_type": "stream",
     "text": [
      "https://weather.uwyo.edu/cgi-bin/bufrraob.py?type=TEXT:LIST&id=91165&datetime=2023-11-20%2012:00:00\n"
     ]
    },
    {
     "name": "stderr",
     "output_type": "stream",
     "text": [
      "C:\\Users\\Angela\\Anaconda3\\lib\\site-packages\\urllib3\\connectionpool.py:847: InsecureRequestWarning: Unverified HTTPS request is being made. Adding certificate verification is strongly advised. See: https://urllib3.readthedocs.io/en/latest/advanced-usage.html#ssl-warnings\n",
      "  InsecureRequestWarning)\n"
     ]
    },
    {
     "name": "stdout",
     "output_type": "stream",
     "text": [
      "https://weather.uwyo.edu/cgi-bin/bufrraob.py?type=TEXT:LIST&id=91165&datetime=2023-11-21%2000:00:00\n"
     ]
    },
    {
     "name": "stderr",
     "output_type": "stream",
     "text": [
      "C:\\Users\\Angela\\Anaconda3\\lib\\site-packages\\urllib3\\connectionpool.py:847: InsecureRequestWarning: Unverified HTTPS request is being made. Adding certificate verification is strongly advised. See: https://urllib3.readthedocs.io/en/latest/advanced-usage.html#ssl-warnings\n",
      "  InsecureRequestWarning)\n"
     ]
    },
    {
     "name": "stdout",
     "output_type": "stream",
     "text": [
      "https://weather.uwyo.edu/cgi-bin/bufrraob.py?type=TEXT:LIST&id=91165&datetime=2023-11-21%2012:00:00\n"
     ]
    },
    {
     "name": "stderr",
     "output_type": "stream",
     "text": [
      "C:\\Users\\Angela\\Anaconda3\\lib\\site-packages\\urllib3\\connectionpool.py:847: InsecureRequestWarning: Unverified HTTPS request is being made. Adding certificate verification is strongly advised. See: https://urllib3.readthedocs.io/en/latest/advanced-usage.html#ssl-warnings\n",
      "  InsecureRequestWarning)\n"
     ]
    },
    {
     "name": "stdout",
     "output_type": "stream",
     "text": [
      "https://weather.uwyo.edu/cgi-bin/bufrraob.py?type=TEXT:LIST&id=91165&datetime=2023-11-22%2000:00:00\n"
     ]
    },
    {
     "name": "stderr",
     "output_type": "stream",
     "text": [
      "C:\\Users\\Angela\\Anaconda3\\lib\\site-packages\\urllib3\\connectionpool.py:847: InsecureRequestWarning: Unverified HTTPS request is being made. Adding certificate verification is strongly advised. See: https://urllib3.readthedocs.io/en/latest/advanced-usage.html#ssl-warnings\n",
      "  InsecureRequestWarning)\n"
     ]
    },
    {
     "name": "stdout",
     "output_type": "stream",
     "text": [
      "https://weather.uwyo.edu/cgi-bin/bufrraob.py?type=TEXT:LIST&id=91165&datetime=2023-11-22%2012:00:00\n"
     ]
    },
    {
     "name": "stderr",
     "output_type": "stream",
     "text": [
      "C:\\Users\\Angela\\Anaconda3\\lib\\site-packages\\urllib3\\connectionpool.py:847: InsecureRequestWarning: Unverified HTTPS request is being made. Adding certificate verification is strongly advised. See: https://urllib3.readthedocs.io/en/latest/advanced-usage.html#ssl-warnings\n",
      "  InsecureRequestWarning)\n"
     ]
    },
    {
     "name": "stdout",
     "output_type": "stream",
     "text": [
      "https://weather.uwyo.edu/cgi-bin/bufrraob.py?type=TEXT:LIST&id=91165&datetime=2023-11-23%2000:00:00\n"
     ]
    },
    {
     "name": "stderr",
     "output_type": "stream",
     "text": [
      "C:\\Users\\Angela\\Anaconda3\\lib\\site-packages\\urllib3\\connectionpool.py:847: InsecureRequestWarning: Unverified HTTPS request is being made. Adding certificate verification is strongly advised. See: https://urllib3.readthedocs.io/en/latest/advanced-usage.html#ssl-warnings\n",
      "  InsecureRequestWarning)\n"
     ]
    },
    {
     "name": "stdout",
     "output_type": "stream",
     "text": [
      "https://weather.uwyo.edu/cgi-bin/bufrraob.py?type=TEXT:LIST&id=91165&datetime=2023-11-23%2012:00:00\n"
     ]
    },
    {
     "name": "stderr",
     "output_type": "stream",
     "text": [
      "C:\\Users\\Angela\\Anaconda3\\lib\\site-packages\\urllib3\\connectionpool.py:847: InsecureRequestWarning: Unverified HTTPS request is being made. Adding certificate verification is strongly advised. See: https://urllib3.readthedocs.io/en/latest/advanced-usage.html#ssl-warnings\n",
      "  InsecureRequestWarning)\n"
     ]
    },
    {
     "name": "stdout",
     "output_type": "stream",
     "text": [
      "https://weather.uwyo.edu/cgi-bin/bufrraob.py?type=TEXT:LIST&id=91165&datetime=2023-11-24%2000:00:00\n"
     ]
    },
    {
     "name": "stderr",
     "output_type": "stream",
     "text": [
      "C:\\Users\\Angela\\Anaconda3\\lib\\site-packages\\urllib3\\connectionpool.py:847: InsecureRequestWarning: Unverified HTTPS request is being made. Adding certificate verification is strongly advised. See: https://urllib3.readthedocs.io/en/latest/advanced-usage.html#ssl-warnings\n",
      "  InsecureRequestWarning)\n"
     ]
    },
    {
     "name": "stdout",
     "output_type": "stream",
     "text": [
      "https://weather.uwyo.edu/cgi-bin/bufrraob.py?type=TEXT:LIST&id=91165&datetime=2023-11-24%2012:00:00\n"
     ]
    },
    {
     "name": "stderr",
     "output_type": "stream",
     "text": [
      "C:\\Users\\Angela\\Anaconda3\\lib\\site-packages\\urllib3\\connectionpool.py:847: InsecureRequestWarning: Unverified HTTPS request is being made. Adding certificate verification is strongly advised. See: https://urllib3.readthedocs.io/en/latest/advanced-usage.html#ssl-warnings\n",
      "  InsecureRequestWarning)\n"
     ]
    },
    {
     "name": "stdout",
     "output_type": "stream",
     "text": [
      "https://weather.uwyo.edu/cgi-bin/bufrraob.py?type=TEXT:LIST&id=91165&datetime=2023-11-25%2000:00:00\n"
     ]
    },
    {
     "name": "stderr",
     "output_type": "stream",
     "text": [
      "C:\\Users\\Angela\\Anaconda3\\lib\\site-packages\\urllib3\\connectionpool.py:847: InsecureRequestWarning: Unverified HTTPS request is being made. Adding certificate verification is strongly advised. See: https://urllib3.readthedocs.io/en/latest/advanced-usage.html#ssl-warnings\n",
      "  InsecureRequestWarning)\n"
     ]
    },
    {
     "name": "stdout",
     "output_type": "stream",
     "text": [
      "https://weather.uwyo.edu/cgi-bin/bufrraob.py?type=TEXT:LIST&id=91165&datetime=2023-11-25%2012:00:00\n"
     ]
    },
    {
     "name": "stderr",
     "output_type": "stream",
     "text": [
      "C:\\Users\\Angela\\Anaconda3\\lib\\site-packages\\urllib3\\connectionpool.py:847: InsecureRequestWarning: Unverified HTTPS request is being made. Adding certificate verification is strongly advised. See: https://urllib3.readthedocs.io/en/latest/advanced-usage.html#ssl-warnings\n",
      "  InsecureRequestWarning)\n"
     ]
    },
    {
     "name": "stdout",
     "output_type": "stream",
     "text": [
      "https://weather.uwyo.edu/cgi-bin/bufrraob.py?type=TEXT:LIST&id=91165&datetime=2023-11-26%2000:00:00\n"
     ]
    },
    {
     "name": "stderr",
     "output_type": "stream",
     "text": [
      "C:\\Users\\Angela\\Anaconda3\\lib\\site-packages\\urllib3\\connectionpool.py:847: InsecureRequestWarning: Unverified HTTPS request is being made. Adding certificate verification is strongly advised. See: https://urllib3.readthedocs.io/en/latest/advanced-usage.html#ssl-warnings\n",
      "  InsecureRequestWarning)\n"
     ]
    },
    {
     "name": "stdout",
     "output_type": "stream",
     "text": [
      "https://weather.uwyo.edu/cgi-bin/bufrraob.py?type=TEXT:LIST&id=91165&datetime=2023-11-26%2012:00:00\n"
     ]
    },
    {
     "name": "stderr",
     "output_type": "stream",
     "text": [
      "C:\\Users\\Angela\\Anaconda3\\lib\\site-packages\\urllib3\\connectionpool.py:847: InsecureRequestWarning: Unverified HTTPS request is being made. Adding certificate verification is strongly advised. See: https://urllib3.readthedocs.io/en/latest/advanced-usage.html#ssl-warnings\n",
      "  InsecureRequestWarning)\n"
     ]
    },
    {
     "name": "stdout",
     "output_type": "stream",
     "text": [
      "https://weather.uwyo.edu/cgi-bin/bufrraob.py?type=TEXT:LIST&id=91165&datetime=2023-11-27%2000:00:00\n"
     ]
    },
    {
     "name": "stderr",
     "output_type": "stream",
     "text": [
      "C:\\Users\\Angela\\Anaconda3\\lib\\site-packages\\urllib3\\connectionpool.py:847: InsecureRequestWarning: Unverified HTTPS request is being made. Adding certificate verification is strongly advised. See: https://urllib3.readthedocs.io/en/latest/advanced-usage.html#ssl-warnings\n",
      "  InsecureRequestWarning)\n"
     ]
    },
    {
     "name": "stdout",
     "output_type": "stream",
     "text": [
      "https://weather.uwyo.edu/cgi-bin/bufrraob.py?type=TEXT:LIST&id=91165&datetime=2023-11-27%2012:00:00\n"
     ]
    },
    {
     "name": "stderr",
     "output_type": "stream",
     "text": [
      "C:\\Users\\Angela\\Anaconda3\\lib\\site-packages\\urllib3\\connectionpool.py:847: InsecureRequestWarning: Unverified HTTPS request is being made. Adding certificate verification is strongly advised. See: https://urllib3.readthedocs.io/en/latest/advanced-usage.html#ssl-warnings\n",
      "  InsecureRequestWarning)\n"
     ]
    },
    {
     "name": "stdout",
     "output_type": "stream",
     "text": [
      "https://weather.uwyo.edu/cgi-bin/bufrraob.py?type=TEXT:LIST&id=91165&datetime=2023-11-28%2000:00:00\n"
     ]
    },
    {
     "name": "stderr",
     "output_type": "stream",
     "text": [
      "C:\\Users\\Angela\\Anaconda3\\lib\\site-packages\\urllib3\\connectionpool.py:847: InsecureRequestWarning: Unverified HTTPS request is being made. Adding certificate verification is strongly advised. See: https://urllib3.readthedocs.io/en/latest/advanced-usage.html#ssl-warnings\n",
      "  InsecureRequestWarning)\n"
     ]
    },
    {
     "name": "stdout",
     "output_type": "stream",
     "text": [
      "https://weather.uwyo.edu/cgi-bin/bufrraob.py?type=TEXT:LIST&id=91165&datetime=2023-11-28%2012:00:00\n"
     ]
    },
    {
     "name": "stderr",
     "output_type": "stream",
     "text": [
      "C:\\Users\\Angela\\Anaconda3\\lib\\site-packages\\urllib3\\connectionpool.py:847: InsecureRequestWarning: Unverified HTTPS request is being made. Adding certificate verification is strongly advised. See: https://urllib3.readthedocs.io/en/latest/advanced-usage.html#ssl-warnings\n",
      "  InsecureRequestWarning)\n"
     ]
    },
    {
     "name": "stdout",
     "output_type": "stream",
     "text": [
      "https://weather.uwyo.edu/cgi-bin/bufrraob.py?type=TEXT:LIST&id=91165&datetime=2023-11-29%2000:00:00\n"
     ]
    },
    {
     "name": "stderr",
     "output_type": "stream",
     "text": [
      "C:\\Users\\Angela\\Anaconda3\\lib\\site-packages\\urllib3\\connectionpool.py:847: InsecureRequestWarning: Unverified HTTPS request is being made. Adding certificate verification is strongly advised. See: https://urllib3.readthedocs.io/en/latest/advanced-usage.html#ssl-warnings\n",
      "  InsecureRequestWarning)\n"
     ]
    },
    {
     "name": "stdout",
     "output_type": "stream",
     "text": [
      "https://weather.uwyo.edu/cgi-bin/bufrraob.py?type=TEXT:LIST&id=91165&datetime=2023-11-29%2012:00:00\n"
     ]
    },
    {
     "name": "stderr",
     "output_type": "stream",
     "text": [
      "C:\\Users\\Angela\\Anaconda3\\lib\\site-packages\\urllib3\\connectionpool.py:847: InsecureRequestWarning: Unverified HTTPS request is being made. Adding certificate verification is strongly advised. See: https://urllib3.readthedocs.io/en/latest/advanced-usage.html#ssl-warnings\n",
      "  InsecureRequestWarning)\n"
     ]
    },
    {
     "name": "stdout",
     "output_type": "stream",
     "text": [
      "https://weather.uwyo.edu/cgi-bin/bufrraob.py?type=TEXT:LIST&id=91165&datetime=2023-11-30%2000:00:00\n"
     ]
    },
    {
     "name": "stderr",
     "output_type": "stream",
     "text": [
      "C:\\Users\\Angela\\Anaconda3\\lib\\site-packages\\urllib3\\connectionpool.py:847: InsecureRequestWarning: Unverified HTTPS request is being made. Adding certificate verification is strongly advised. See: https://urllib3.readthedocs.io/en/latest/advanced-usage.html#ssl-warnings\n",
      "  InsecureRequestWarning)\n"
     ]
    },
    {
     "name": "stdout",
     "output_type": "stream",
     "text": [
      "https://weather.uwyo.edu/cgi-bin/bufrraob.py?type=TEXT:LIST&id=91165&datetime=2023-11-30%2012:00:00\n"
     ]
    },
    {
     "name": "stderr",
     "output_type": "stream",
     "text": [
      "C:\\Users\\Angela\\Anaconda3\\lib\\site-packages\\urllib3\\connectionpool.py:847: InsecureRequestWarning: Unverified HTTPS request is being made. Adding certificate verification is strongly advised. See: https://urllib3.readthedocs.io/en/latest/advanced-usage.html#ssl-warnings\n",
      "  InsecureRequestWarning)\n"
     ]
    },
    {
     "name": "stdout",
     "output_type": "stream",
     "text": [
      "Moving to December\n"
     ]
    }
   ],
   "source": [
    "from datetime import datetime, timedelta\n",
    "\n",
    "# Define the start and end dates\n",
    "start_date = datetime(2023, 8, 24, 0)\n",
    "end_date = datetime.now()\n",
    "\n",
    "# Iterate through months and days\n",
    "current_date = start_date\n",
    "while current_date <= end_date:\n",
    "    file_path = 'radiosonde_readings/'+current_date.strftime('%Y-%m-%d-%H')+'.csv'\n",
    "    # Fetch data if we do not already have it\n",
    "    if not os.path.exists(file_path):\n",
    "        data, units = wyoming_radiosonde.get_data(stnm, current_date)\n",
    "        if data is not None:\n",
    "            data.to_csv(file_path, index=False)\n",
    "    \n",
    "    mon = current_date.month\n",
    "    # Move to the next day\n",
    "    current_date += timedelta(hours=12)\n",
    "\n",
    "    # Check if we moved to the next month\n",
    "    if mon != current_date.month:\n",
    "        print(f\"Moving to {current_date.strftime('%B')}\")"
   ]
  },
  {
   "cell_type": "markdown",
   "metadata": {},
   "source": [
    "# Defining different PBL Height Methods"
   ]
  },
  {
   "cell_type": "code",
   "execution_count": 3,
   "metadata": {},
   "outputs": [],
   "source": [
    "radiosonde_files = os.listdir('radiosonde_readings')\n",
    "\n",
    "date_format = '%Y-%m-%d-%H.csv'\n",
    "radiosonde_dt_data_dict = {datetime.strptime(r, date_format) : pd.read_csv('radiosonde_readings/'+r) for r in radiosonde_files}"
   ]
  },
  {
   "cell_type": "code",
   "execution_count": 4,
   "metadata": {
    "scrolled": true
   },
   "outputs": [],
   "source": [
    "def bulk_ri_num(potential_temp_surf, height, potential_temp_h, u):\n",
    "    g = 9.81\n",
    "    theta_surf = g*height/potential_temp_surf*(potential_temp_h - potential_temp_surf)/u**2\n",
    "    return theta_surf\n",
    "\n",
    "def get_pbl_height_ri(data, threshold=0.25):\n",
    "    for i in range(len(data)):\n",
    "        ri_num = bulk_ri_num(data['THTV'][0], data['HGHT'][i], data['THTV'][i], data['SPED'][i])\n",
    "        if ri_num>threshold:\n",
    "            return data['HGHT'][i], i\n",
    "    return np.nan, None\n",
    "\n",
    "def get_pbl_height_holzworth(data, threshold=5):\n",
    "    for i in range(len(data)):\n",
    "        if data['THTV'][i] >= data['THTV'][0]+threshold:\n",
    "            return data['HGHT'][i], i\n",
    "    return np.nan, None\n",
    "\n",
    "def get_frac_height(data, fraction):\n",
    "    total_hum = data['RELH'][0]\n",
    "    running_total = [data['RELH'][0]]\n",
    "    for i in range(1, len(data)):\n",
    "        dz = data['HGHT'][i] - data['HGHT'][i-1]\n",
    "        drelh = (data['RELH'][i] + data['RELH'][i-1])/2\n",
    "        total_hum += drelh*dz\n",
    "        running_total.append(total_hum)\n",
    "    \n",
    "    frac_hum = fraction*total_hum\n",
    "    for i in range(len(data)):\n",
    "        if running_total[i] >= frac_hum:\n",
    "            return data['HGHT'][i], i\n",
    "    return None, None"
   ]
  },
  {
   "cell_type": "markdown",
   "metadata": {},
   "source": [
    "# Evaluating PBL Methods at one date "
   ]
  },
  {
   "cell_type": "code",
   "execution_count": 29,
   "metadata": {},
   "outputs": [
    {
     "data": {
      "text/html": [
       "<div>\n",
       "<style scoped>\n",
       "    .dataframe tbody tr th:only-of-type {\n",
       "        vertical-align: middle;\n",
       "    }\n",
       "\n",
       "    .dataframe tbody tr th {\n",
       "        vertical-align: top;\n",
       "    }\n",
       "\n",
       "    .dataframe thead th {\n",
       "        text-align: right;\n",
       "    }\n",
       "</style>\n",
       "<table border=\"1\" class=\"dataframe\">\n",
       "  <thead>\n",
       "    <tr style=\"text-align: right;\">\n",
       "      <th></th>\n",
       "      <th>PRES</th>\n",
       "      <th>HGHT</th>\n",
       "      <th>TEMP</th>\n",
       "      <th>DWPT</th>\n",
       "      <th>RELH</th>\n",
       "      <th>MIXR</th>\n",
       "      <th>DRCT</th>\n",
       "      <th>SPED</th>\n",
       "      <th>THTA</th>\n",
       "      <th>THTE</th>\n",
       "      <th>THTV</th>\n",
       "    </tr>\n",
       "  </thead>\n",
       "  <tbody>\n",
       "    <tr>\n",
       "      <th>0</th>\n",
       "      <td>1014.2</td>\n",
       "      <td>31</td>\n",
       "      <td>24.7</td>\n",
       "      <td>20.2</td>\n",
       "      <td>76</td>\n",
       "      <td>14.86</td>\n",
       "      <td>138</td>\n",
       "      <td>3.4</td>\n",
       "      <td>296.7</td>\n",
       "      <td>339.7</td>\n",
       "      <td>299.3</td>\n",
       "    </tr>\n",
       "    <tr>\n",
       "      <th>1</th>\n",
       "      <td>1011.0</td>\n",
       "      <td>59</td>\n",
       "      <td>23.7</td>\n",
       "      <td>19.8</td>\n",
       "      <td>79</td>\n",
       "      <td>14.49</td>\n",
       "      <td>145</td>\n",
       "      <td>1.9</td>\n",
       "      <td>295.9</td>\n",
       "      <td>337.8</td>\n",
       "      <td>298.5</td>\n",
       "    </tr>\n",
       "    <tr>\n",
       "      <th>2</th>\n",
       "      <td>1000.0</td>\n",
       "      <td>154</td>\n",
       "      <td>22.7</td>\n",
       "      <td>19.6</td>\n",
       "      <td>82</td>\n",
       "      <td>14.48</td>\n",
       "      <td>138</td>\n",
       "      <td>2.8</td>\n",
       "      <td>295.9</td>\n",
       "      <td>337.7</td>\n",
       "      <td>298.5</td>\n",
       "    </tr>\n",
       "    <tr>\n",
       "      <th>3</th>\n",
       "      <td>984.0</td>\n",
       "      <td>294</td>\n",
       "      <td>21.5</td>\n",
       "      <td>18.6</td>\n",
       "      <td>84</td>\n",
       "      <td>13.82</td>\n",
       "      <td>152</td>\n",
       "      <td>2.8</td>\n",
       "      <td>296.0</td>\n",
       "      <td>336.0</td>\n",
       "      <td>298.4</td>\n",
       "    </tr>\n",
       "    <tr>\n",
       "      <th>4</th>\n",
       "      <td>982.2</td>\n",
       "      <td>310</td>\n",
       "      <td>21.7</td>\n",
       "      <td>17.4</td>\n",
       "      <td>77</td>\n",
       "      <td>12.80</td>\n",
       "      <td>153</td>\n",
       "      <td>2.7</td>\n",
       "      <td>296.3</td>\n",
       "      <td>333.4</td>\n",
       "      <td>298.6</td>\n",
       "    </tr>\n",
       "  </tbody>\n",
       "</table>\n",
       "</div>"
      ],
      "text/plain": [
       "     PRES  HGHT  TEMP  DWPT  RELH   MIXR  DRCT  SPED   THTA   THTE   THTV\n",
       "0  1014.2    31  24.7  20.2    76  14.86   138   3.4  296.7  339.7  299.3\n",
       "1  1011.0    59  23.7  19.8    79  14.49   145   1.9  295.9  337.8  298.5\n",
       "2  1000.0   154  22.7  19.6    82  14.48   138   2.8  295.9  337.7  298.5\n",
       "3   984.0   294  21.5  18.6    84  13.82   152   2.8  296.0  336.0  298.4\n",
       "4   982.2   310  21.7  17.4    77  12.80   153   2.7  296.3  333.4  298.6"
      ]
     },
     "execution_count": 29,
     "metadata": {},
     "output_type": "execute_result"
    }
   ],
   "source": [
    "data = radiosonde_dt_data_dict[datetime(2023, 1, 1, 0)]\n",
    "# 2023-01-20-00\n",
    "data.head()"
   ]
  },
  {
   "cell_type": "code",
   "execution_count": 30,
   "metadata": {
    "id": "JLmS0RnVX85k"
   },
   "outputs": [
    {
     "name": "stdout",
     "output_type": "stream",
     "text": [
      "Ri PBL Height 1047\n",
      "Holzworth PBL Height 1719\n",
      "50% Fractional Height 7446\n",
      "25% Fractional Height 1399\n",
      "15% Fractional Height 828\n"
     ]
    }
   ],
   "source": [
    "pbl_height_ri, pbl_height_ri_idx = get_pbl_height_ri(data, threshold=0.25)\n",
    "pbl_height_holzworth, pbl_height_holzworth_idx = get_pbl_height_holzworth(data, threshold=2.5)\n",
    "frac_height_50, frac_height_50_idx = get_frac_height(data, 0.5)\n",
    "frac_height_25, frac_height_25_idx = get_frac_height(data, 0.25)\n",
    "frac_height_15, frac_height_15_idx = get_frac_height(data, 0.15)\n",
    "\n",
    "print('Ri PBL Height', pbl_height_ri)\n",
    "print('Holzworth PBL Height', pbl_height_holzworth)\n",
    "print('50% Fractional Height', frac_height_50)\n",
    "print('25% Fractional Height', frac_height_25)\n",
    "print('15% Fractional Height', frac_height_15)"
   ]
  },
  {
   "cell_type": "code",
   "execution_count": 32,
   "metadata": {
    "id": "NcsJOsROUsD_",
    "scrolled": true
   },
   "outputs": [
    {
     "data": {
      "image/png": "[encoded data removed]",
      "text/plain": [
       "<Figure size 432x288 with 1 Axes>"
      ]
     },
     "metadata": {
      "needs_background": "light"
     },
     "output_type": "display_data"
    }
   ],
   "source": [
    "plt.axhline(y=pbl_height_ri, color='r', linestyle='-')\n",
    "plt.axhline(y=pbl_height_holzworth, color='b', linestyle='-')\n",
    "# plt.axhline(y=frac_height_50, color='g', linestyle='-')\n",
    "# plt.axhline(y=frac_height_25, color='c', linestyle='-')\n",
    "plt.axhline(y=frac_height_15, color='y', linestyle='-')\n",
    "plt.legend(['Ri PBL Height','Holzworth PBL Height', '15% Fractional Height'])\n",
    "plt.plot(list(data['THTV']), list(data['HGHT']))\n",
    "\n",
    "# Adding labels and title\n",
    "plt.xlabel('Virtual Potential Temperature theta_v [K]')\n",
    "plt.ylabel('Height [m]')\n",
    "plt.title('PBL Height')\n",
    "plt.ylim([0,max(pbl_height_ri, pbl_height_holzworth, frac_height_15)+25])\n",
    "plt.xlim([295,310])\n",
    "plt.title('PBL Heights at Lihue, Hawaii for Jan 1, 2023')\n",
    "\n",
    "\n",
    "# Show the plot\n",
    "plt.show()"
   ]
  },
  {
   "cell_type": "markdown",
   "metadata": {},
   "source": [
    "# Evaluating PBL heights at all times"
   ]
  },
  {
   "cell_type": "code",
   "execution_count": 63,
   "metadata": {},
   "outputs": [
    {
     "name": "stderr",
     "output_type": "stream",
     "text": [
      "C:\\Users\\Angela\\Anaconda3\\lib\\site-packages\\ipykernel_launcher.py:3: RuntimeWarning: divide by zero encountered in double_scalars\n",
      "  This is separate from the ipykernel package so we can avoid doing imports until\n"
     ]
    }
   ],
   "source": [
    "pbl_height_ri_dict = {}\n",
    "pbl_height_holzworth_dict = {}\n",
    "frac_height_50_dict = {}\n",
    "frac_height_25_dict = {}\n",
    "frac_height_15_dict = {}\n",
    "\n",
    "for dt in radiosonde_dt_data_dict.keys():\n",
    "    data = radiosonde_dt_data_dict[dt]\n",
    "    pbl_height_ri, pbl_height_ri_idx = get_pbl_height_ri(data, threshold=0.25)\n",
    "    pbl_height_holzworth, pbl_height_holzworth_idx = get_pbl_height_holzworth(data, threshold=2.5)\n",
    "    frac_height_50, frac_height_50_idx = get_frac_height(data, 0.5)\n",
    "    frac_height_25, frac_height_25_idx = get_frac_height(data, 0.25)\n",
    "    frac_height_15, frac_height_15_idx = get_frac_height(data, 0.15)\n",
    "    \n",
    "    pbl_height_ri_dict[dt] = pbl_height_ri\n",
    "    pbl_height_holzworth_dict[dt] = pbl_height_holzworth\n",
    "    frac_height_50_dict[dt] = frac_height_50\n",
    "    frac_height_25_dict[dt] = frac_height_25\n",
    "    frac_height_15_dict[dt] = frac_height_15"
   ]
  },
  {
   "cell_type": "code",
   "execution_count": 64,
   "metadata": {},
   "outputs": [
    {
     "data": {
      "text/plain": [
       "Text(0.5, 1.0, 'PBL Height 00GMT (Convective Hawaii -10GMT)')"
      ]
     },
     "execution_count": 64,
     "metadata": {},
     "output_type": "execute_result"
    },
    {
     "data": {
      "image/png": "[encoded data removed]",
      "text/plain": [
       "<Figure size 432x288 with 1 Axes>"
      ]
     },
     "metadata": {
      "needs_background": "light"
     },
     "output_type": "display_data"
    },
    {
     "data": {
      "image/png": "[encoded data removed]",
      "text/plain": [
       "<Figure size 432x288 with 1 Axes>"
      ]
     },
     "metadata": {
      "needs_background": "light"
     },
     "output_type": "display_data"
    },
    {
     "data": {
      "image/png": "[encoded data removed]",
      "text/plain": [
       "<Figure size 432x288 with 1 Axes>"
      ]
     },
     "metadata": {
      "needs_background": "light"
     },
     "output_type": "display_data"
    }
   ],
   "source": [
    "xs = [k for k in pbl_height_ri_dict.keys() if k.hour == 0]\n",
    "ris = [pbl_height_ri_dict[k] for k in xs]\n",
    "holzs = [pbl_height_holzworth_dict[k] for k in xs]\n",
    "frac_15 = [frac_height_15_dict[k] for k in xs]\n",
    "\n",
    "# figure_size = (12,5)\n",
    "plt.figure()\n",
    "plt.plot(ris, holzs, 'o')\n",
    "plt.xlabel('Ri-Method PBL Heights(m)')\n",
    "plt.ylabel('Parcel Method PBL Heights(m)')\n",
    "plt.title('PBL Height 00GMT (Convective Hawaii -10GMT)')\n",
    "plt.figure()\n",
    "plt.plot(ris, frac_15, 'o')\n",
    "plt.xlabel('Ri-Method PBL Heights(m)')\n",
    "plt.ylabel('15% Fractional Heights(m)')\n",
    "plt.title('PBL Height 00GMT (Convective Hawaii -10GMT)')\n",
    "\n",
    "plt.figure()\n",
    "plt.plot(frac_15, holzs, 'o')\n",
    "plt.xlabel('15% Fractional Heights(m)')\n",
    "plt.ylabel('Parcel Method PBL Heights(m)')\n",
    "plt.title('PBL Height 00GMT (Convective Hawaii -10GMT)')\n"
   ]
  },
  {
   "cell_type": "code",
   "execution_count": 65,
   "metadata": {},
   "outputs": [
    {
     "data": {
      "text/plain": [
       "Text(0.5, 1.0, 'PBL Height 12GMT (Stable, Hawaii -10GMT)')"
      ]
     },
     "execution_count": 65,
     "metadata": {},
     "output_type": "execute_result"
    },
    {
     "data": {
      "image/png": "[encoded data removed]",
      "text/plain": [
       "<Figure size 432x288 with 1 Axes>"
      ]
     },
     "metadata": {
      "needs_background": "light"
     },
     "output_type": "display_data"
    },
    {
     "data": {
      "image/png": "[encoded data removed]",
      "text/plain": [
       "<Figure size 432x288 with 1 Axes>"
      ]
     },
     "metadata": {
      "needs_background": "light"
     },
     "output_type": "display_data"
    },
    {
     "data": {
      "image/png": "[encoded data removed]",
      "text/plain": [
       "<Figure size 432x288 with 1 Axes>"
      ]
     },
     "metadata": {
      "needs_background": "light"
     },
     "output_type": "display_data"
    }
   ],
   "source": [
    "x1s = [k for k in pbl_height_ri_dict.keys() if k.hour == 12]\n",
    "ris = [pbl_height_ri_dict[k] for k in x1s]\n",
    "holzs = [pbl_height_holzworth_dict[k] for k in x1s]\n",
    "frac_15 = [frac_height_15_dict[k] for k in x1s]\n",
    "\n",
    "plt.figure()\n",
    "plt.plot(ris, holzs, 'o')\n",
    "plt.xlabel('Ri-Method PBL Heights(m)')\n",
    "plt.ylabel('Parcel Method PBL Heights(m)')\n",
    "plt.title('PBL Height 12GMT (Stable, Hawaii -10GMT)')\n",
    "plt.figure()\n",
    "plt.plot(ris, frac_15, 'o')\n",
    "plt.xlabel('Ri-Method PBL Heights(m)')\n",
    "plt.ylabel('15% Fractional Heights(m)')\n",
    "plt.title('PBL Height 12GMT (Stable, Hawaii -10GMT)')\n",
    "\n",
    "plt.figure()\n",
    "plt.plot(frac_15, holzs, 'o')\n",
    "plt.xlabel('15% Fractional Heights(m)')\n",
    "plt.ylabel('Parcel Method PBL Heights(m)')\n",
    "plt.title('PBL Height 12GMT (Stable, Hawaii -10GMT)')"
   ]
  },
  {
   "cell_type": "markdown",
   "metadata": {},
   "source": [
    "# Save PBL Heights Into Python Pickle Objects"
   ]
  },
  {
   "cell_type": "code",
   "execution_count": 61,
   "metadata": {},
   "outputs": [],
   "source": [
    "with open('pbl_height_ri_dict.pkl', 'wb') as file:\n",
    "    pickle.dump(pbl_height_ri_dict, file)\n",
    "with open('pbl_height_holzworth_dict.pkl', 'wb') as file:\n",
    "    pickle.dump(pbl_height_holzworth_dict, file)\n",
    "with open('frac_height_50_dict.pkl', 'wb') as file:\n",
    "    pickle.dump(frac_height_50_dict, file)\n",
    "with open('frac_height_25_dict.pkl', 'wb') as file:\n",
    "    pickle.dump(frac_height_25_dict, file)\n",
    "with open('frac_height_15_dict.pkl', 'wb') as file:\n",
    "    pickle.dump(frac_height_15_dict, file)"
   ]
  },
  {
   "cell_type": "markdown",
   "metadata": {},
   "source": [
    "# Load PBL Heights Into Python Pickle Objects"
   ]
  },
  {
   "cell_type": "code",
   "execution_count": 62,
   "metadata": {},
   "outputs": [],
   "source": [
    "with open('pbl_height_ri_dict.pkl', 'rb') as file:\n",
    "    pbl_height_ri_dict = pickle.load(file)\n",
    "with open('pbl_height_holzworth_dict.pkl', 'rb') as file:\n",
    "    pbl_height_holzworth_dict = pickle.load(file)\n",
    "with open('frac_height_50_dict.pkl', 'rb') as file:\n",
    "    frac_height_50_dict = pickle.load(file)\n",
    "with open('frac_height_25_dict.pkl', 'rb') as file:\n",
    "    frac_height_25_dict = pickle.load(file)\n",
    "with open('frac_height_15_dict.pkl', 'rb') as file:\n",
    "    frac_height_15_dict = pickle.load(file)"
   ]
  }
 ],
 "metadata": {
  "colab": {
   "provenance": []
  },
  "kernelspec": {
   "display_name": "Python 3",
   "language": "python",
   "name": "python3"
  },
  "language_info": {
   "codemirror_mode": {
    "name": "ipython",
    "version": 3
   },
   "file_extension": ".py",
   "mimetype": "text/x-python",
   "name": "python",
   "nbconvert_exporter": "python",
   "pygments_lexer": "ipython3",
   "version": "3.7.3"
  }
 },
 "nbformat": 4,
 "nbformat_minor": 1
}
